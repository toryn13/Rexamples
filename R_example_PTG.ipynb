{
  "cells": [
    {
      "cell_type": "markdown",
      "metadata": {
        "id": "view-in-github",
        "colab_type": "text"
      },
      "source": [
        "<a href=\"https://colab.research.google.com/github/toryn13/Rexamples/blob/main/R_example_PTG.ipynb\" target=\"_parent\"><img src=\"https://colab.research.google.com/assets/colab-badge.svg\" alt=\"Open In Colab\"/></a>"
      ]
    },
    {
      "cell_type": "markdown",
      "source": [
        "# Setting up R in Google Colab. \n",
        "\n",
        "Colab is a virtual computing environment, which uses Python and many other languages.\n",
        "\n",
        "Run the code below to enable R, every cell that runs R will need to start with %%R"
      ],
      "metadata": {
        "id": "7vt9cqJeFIeF"
      }
    },
    {
      "cell_type": "code",
      "execution_count": 1,
      "metadata": {
        "id": "d-d_swj2gxOU"
      },
      "outputs": [],
      "source": [
        "%load_ext rpy2.ipython"
      ]
    },
    {
      "cell_type": "markdown",
      "source": [
        "Here are the packages we need. The Tidyverse is already installed into Colab."
      ],
      "metadata": {
        "id": "mwPZY2X6Fn6X"
      }
    },
    {
      "cell_type": "code",
      "execution_count": 2,
      "metadata": {
        "colab": {
          "base_uri": "https://localhost:8080/"
        },
        "id": "F_cLsFmGhGGf",
        "outputId": "014e887a-b359-4deb-df0b-23aa494b7116"
      },
      "outputs": [
        {
          "output_type": "stream",
          "name": "stderr",
          "text": [
            "R[write to console]: Installing package into ‘/usr/local/lib/R/site-library’\n",
            "(as ‘lib’ is unspecified)\n",
            "\n",
            "R[write to console]: trying URL 'https://cran.rstudio.com/src/contrib/cowplot_1.1.1.tar.gz'\n",
            "\n",
            "R[write to console]: Content type 'application/x-gzip'\n",
            "R[write to console]:  length 1353271 bytes (1.3 MB)\n",
            "\n",
            "R[write to console]: =\n",
            "R[write to console]: =\n",
            "R[write to console]: =\n",
            "R[write to console]: =\n",
            "R[write to console]: =\n",
            "R[write to console]: =\n",
            "R[write to console]: =\n",
            "R[write to console]: =\n",
            "R[write to console]: =\n",
            "R[write to console]: =\n",
            "R[write to console]: =\n",
            "R[write to console]: =\n",
            "R[write to console]: =\n",
            "R[write to console]: =\n",
            "R[write to console]: =\n",
            "R[write to console]: =\n",
            "R[write to console]: =\n",
            "R[write to console]: =\n",
            "R[write to console]: =\n",
            "R[write to console]: =\n",
            "R[write to console]: =\n",
            "R[write to console]: =\n",
            "R[write to console]: =\n",
            "R[write to console]: =\n",
            "R[write to console]: =\n",
            "R[write to console]: =\n",
            "R[write to console]: =\n",
            "R[write to console]: =\n",
            "R[write to console]: =\n",
            "R[write to console]: =\n",
            "R[write to console]: =\n",
            "R[write to console]: =\n",
            "R[write to console]: =\n",
            "R[write to console]: =\n",
            "R[write to console]: =\n",
            "R[write to console]: =\n",
            "R[write to console]: =\n",
            "R[write to console]: =\n",
            "R[write to console]: =\n",
            "R[write to console]: =\n",
            "R[write to console]: =\n",
            "R[write to console]: =\n",
            "R[write to console]: =\n",
            "R[write to console]: =\n",
            "R[write to console]: =\n",
            "R[write to console]: =\n",
            "R[write to console]: =\n",
            "R[write to console]: =\n",
            "R[write to console]: =\n",
            "R[write to console]: =\n",
            "R[write to console]: \n",
            "\n",
            "R[write to console]: downloaded 1.3 MB\n",
            "\n",
            "\n",
            "R[write to console]: \n",
            "\n",
            "R[write to console]: \n",
            "R[write to console]: The downloaded source packages are in\n",
            "\t‘/tmp/RtmpPtOgXW/downloaded_packages’\n",
            "R[write to console]: \n",
            "R[write to console]: \n",
            "\n",
            "R[write to console]: Installing package into ‘/usr/local/lib/R/site-library’\n",
            "(as ‘lib’ is unspecified)\n",
            "\n",
            "R[write to console]: trying URL 'https://cran.rstudio.com/src/contrib/rstatix_0.7.0.tar.gz'\n",
            "\n",
            "R[write to console]: Content type 'application/x-gzip'\n",
            "R[write to console]:  length 402481 bytes (393 KB)\n",
            "\n",
            "R[write to console]: =\n",
            "R[write to console]: =\n",
            "R[write to console]: =\n",
            "R[write to console]: =\n",
            "R[write to console]: =\n",
            "R[write to console]: =\n",
            "R[write to console]: =\n",
            "R[write to console]: =\n",
            "R[write to console]: =\n",
            "R[write to console]: =\n",
            "R[write to console]: =\n",
            "R[write to console]: =\n",
            "R[write to console]: =\n",
            "R[write to console]: =\n",
            "R[write to console]: =\n",
            "R[write to console]: =\n",
            "R[write to console]: =\n",
            "R[write to console]: =\n",
            "R[write to console]: =\n",
            "R[write to console]: =\n",
            "R[write to console]: =\n",
            "R[write to console]: =\n",
            "R[write to console]: =\n",
            "R[write to console]: =\n",
            "R[write to console]: =\n",
            "R[write to console]: =\n",
            "R[write to console]: =\n",
            "R[write to console]: =\n",
            "R[write to console]: =\n",
            "R[write to console]: =\n",
            "R[write to console]: =\n",
            "R[write to console]: =\n",
            "R[write to console]: =\n",
            "R[write to console]: =\n",
            "R[write to console]: =\n",
            "R[write to console]: =\n",
            "R[write to console]: =\n",
            "R[write to console]: =\n",
            "R[write to console]: =\n",
            "R[write to console]: =\n",
            "R[write to console]: =\n",
            "R[write to console]: =\n",
            "R[write to console]: =\n",
            "R[write to console]: =\n",
            "R[write to console]: =\n",
            "R[write to console]: =\n",
            "R[write to console]: =\n",
            "R[write to console]: =\n",
            "R[write to console]: =\n",
            "R[write to console]: =\n",
            "R[write to console]: \n",
            "\n",
            "R[write to console]: downloaded 393 KB\n",
            "\n",
            "\n",
            "R[write to console]: \n",
            "\n",
            "R[write to console]: \n",
            "R[write to console]: The downloaded source packages are in\n",
            "\t‘/tmp/RtmpPtOgXW/downloaded_packages’\n",
            "R[write to console]: \n",
            "R[write to console]: \n",
            "\n"
          ]
        }
      ],
      "source": [
        "%%R\n",
        "install.packages(\"cowplot\")\n",
        "install.packages(\"rstatix\")"
      ]
    },
    {
      "cell_type": "markdown",
      "source": [
        "We also need the package \"Magick\". A slighly more complicated install"
      ],
      "metadata": {
        "id": "eYZ_3jp4F1Uh"
      }
    },
    {
      "cell_type": "code",
      "execution_count": 3,
      "metadata": {
        "id": "joNBTfYTiigA",
        "colab": {
          "base_uri": "https://localhost:8080/"
        },
        "outputId": "a86cc40f-cff9-4069-ec28-9a9db93ee67e"
      },
      "outputs": [
        {
          "output_type": "stream",
          "name": "stderr",
          "text": [
            "R[write to console]: Installing package into ‘/usr/local/lib/R/site-library’\n",
            "(as ‘lib’ is unspecified)\n",
            "\n",
            "R[write to console]: trying URL 'https://cran.rstudio.com/src/contrib/magick_2.7.3.tar.gz'\n",
            "\n",
            "R[write to console]: Content type 'application/x-gzip'\n",
            "R[write to console]:  length 4813163 bytes (4.6 MB)\n",
            "\n",
            "R[write to console]: =\n",
            "R[write to console]: =\n",
            "R[write to console]: =\n",
            "R[write to console]: =\n",
            "R[write to console]: =\n",
            "R[write to console]: =\n",
            "R[write to console]: =\n",
            "R[write to console]: =\n",
            "R[write to console]: =\n",
            "R[write to console]: =\n",
            "R[write to console]: =\n",
            "R[write to console]: =\n",
            "R[write to console]: =\n",
            "R[write to console]: =\n",
            "R[write to console]: =\n",
            "R[write to console]: =\n",
            "R[write to console]: =\n",
            "R[write to console]: =\n",
            "R[write to console]: =\n",
            "R[write to console]: =\n",
            "R[write to console]: =\n",
            "R[write to console]: =\n",
            "R[write to console]: =\n",
            "R[write to console]: =\n",
            "R[write to console]: =\n",
            "R[write to console]: =\n",
            "R[write to console]: =\n",
            "R[write to console]: =\n",
            "R[write to console]: =\n",
            "R[write to console]: =\n",
            "R[write to console]: =\n",
            "R[write to console]: =\n",
            "R[write to console]: =\n",
            "R[write to console]: =\n",
            "R[write to console]: =\n",
            "R[write to console]: =\n",
            "R[write to console]: =\n",
            "R[write to console]: =\n",
            "R[write to console]: =\n",
            "R[write to console]: =\n",
            "R[write to console]: =\n",
            "R[write to console]: =\n",
            "R[write to console]: =\n",
            "R[write to console]: =\n",
            "R[write to console]: =\n",
            "R[write to console]: =\n",
            "R[write to console]: =\n",
            "R[write to console]: =\n",
            "R[write to console]: =\n",
            "R[write to console]: =\n",
            "R[write to console]: \n",
            "\n",
            "R[write to console]: downloaded 4.6 MB\n",
            "\n",
            "\n",
            "R[write to console]: \n",
            "\n",
            "R[write to console]: \n",
            "R[write to console]: The downloaded source packages are in\n",
            "\t‘/tmp/RtmpPtOgXW/downloaded_packages’\n",
            "R[write to console]: \n",
            "R[write to console]: \n",
            "\n"
          ]
        }
      ],
      "source": [
        "%%R\n",
        "system('add-apt-repository -y ppa:cran/imagemagick')\n",
        "system('apt-get update')\n",
        "system(\"apt-get install libmagick++-dev\")\n",
        "install.packages(\"magick\")"
      ]
    },
    {
      "cell_type": "markdown",
      "source": [
        "Now we load the packages "
      ],
      "metadata": {
        "id": "l2Sr7pAUGNuD"
      }
    },
    {
      "cell_type": "code",
      "execution_count": 4,
      "metadata": {
        "id": "HgY9aXbRhHxw",
        "colab": {
          "base_uri": "https://localhost:8080/"
        },
        "outputId": "3be6f36d-5095-44c9-e324-adf3587be8a4"
      },
      "outputs": [
        {
          "output_type": "stream",
          "name": "stderr",
          "text": [
            "R[write to console]: ── Attaching packages ─────────────────────────────────────── tidyverse 1.3.1 ──\n",
            "\n",
            "R[write to console]: ✔ ggplot2 3.3.6     ✔ purrr   0.3.4\n",
            "✔ tibble  3.1.7     ✔ dplyr   1.0.9\n",
            "✔ tidyr   1.2.0     ✔ stringr 1.4.0\n",
            "✔ readr   2.1.2     ✔ forcats 0.5.1\n",
            "\n",
            "R[write to console]: ── Conflicts ────────────────────────────────────────── tidyverse_conflicts() ──\n",
            "✖ dplyr::filter() masks stats::filter()\n",
            "✖ dplyr::lag()    masks stats::lag()\n",
            "\n",
            "R[write to console]: Linking to ImageMagick 6.9.7.4\n",
            "Enabled features: fontconfig, freetype, fftw, lcms, pango, x11\n",
            "Disabled features: cairo, ghostscript, heic, raw, rsvg, webp\n",
            "\n",
            "R[write to console]: Using 2 threads\n",
            "\n",
            "R[write to console]: \n",
            "Attaching package: ‘rstatix’\n",
            "\n",
            "\n",
            "R[write to console]: The following object is masked from ‘package:stats’:\n",
            "\n",
            "    filter\n",
            "\n",
            "\n"
          ]
        }
      ],
      "source": [
        "%%R\n",
        "library(tidyverse)\n",
        "library(cowplot)\n",
        "library(magick)\n",
        "library(readxl)\n",
        "library(rstatix)\n"
      ]
    },
    {
      "cell_type": "markdown",
      "source": [
        "## Files"
      ],
      "metadata": {
        "id": "5-8rwxC6XSFZ"
      }
    },
    {
      "cell_type": "code",
      "source": [
        "!wget  \"https://raw.githubusercontent.com/toryn13//Rexamples/main/cat.jpg\"\n",
        "!wget  \"https://raw.githubusercontent.com/toryn13//Rexamples/main/IL6.xlsx\"\n",
        "!wget  \"https://raw.githubusercontent.com/toryn13//Rexamples/main/IL6plate.xls\"\n",
        "!wget  \"https://raw.githubusercontent.com/toryn13//Rexamples/main/p53.jpeg\""
      ],
      "metadata": {
        "colab": {
          "base_uri": "https://localhost:8080/"
        },
        "id": "G1Dyt4EjHC9n",
        "outputId": "a49fb551-1b1c-4414-f017-a8e5eed451e4"
      },
      "execution_count": 5,
      "outputs": [
        {
          "output_type": "stream",
          "name": "stdout",
          "text": [
            "--2022-07-07 07:01:58--  https://raw.githubusercontent.com/toryn13//Rexamples/main/cat.jpg\n",
            "Resolving raw.githubusercontent.com (raw.githubusercontent.com)... 185.199.108.133, 185.199.109.133, 185.199.110.133, ...\n",
            "Connecting to raw.githubusercontent.com (raw.githubusercontent.com)|185.199.108.133|:443... connected.\n",
            "HTTP request sent, awaiting response... 301 Moved Permanently\n",
            "Location: /toryn13/Rexamples/main/cat.jpg [following]\n",
            "--2022-07-07 07:01:58--  https://raw.githubusercontent.com/toryn13/Rexamples/main/cat.jpg\n",
            "Reusing existing connection to raw.githubusercontent.com:443.\n",
            "HTTP request sent, awaiting response... 200 OK\n",
            "Length: 41045 (40K) [image/jpeg]\n",
            "Saving to: ‘cat.jpg.4’\n",
            "\n",
            "\rcat.jpg.4             0%[                    ]       0  --.-KB/s               \rcat.jpg.4           100%[===================>]  40.08K  --.-KB/s    in 0.001s  \n",
            "\n",
            "2022-07-07 07:01:59 (26.8 MB/s) - ‘cat.jpg.4’ saved [41045/41045]\n",
            "\n",
            "--2022-07-07 07:01:59--  https://raw.githubusercontent.com/toryn13//Rexamples/main/IL6.xlsx\n",
            "Resolving raw.githubusercontent.com (raw.githubusercontent.com)... 185.199.108.133, 185.199.109.133, 185.199.110.133, ...\n",
            "Connecting to raw.githubusercontent.com (raw.githubusercontent.com)|185.199.108.133|:443... connected.\n",
            "HTTP request sent, awaiting response... 301 Moved Permanently\n",
            "Location: /toryn13/Rexamples/main/IL6.xlsx [following]\n",
            "--2022-07-07 07:01:59--  https://raw.githubusercontent.com/toryn13/Rexamples/main/IL6.xlsx\n",
            "Reusing existing connection to raw.githubusercontent.com:443.\n",
            "HTTP request sent, awaiting response... 200 OK\n",
            "Length: 9132 (8.9K) [application/octet-stream]\n",
            "Saving to: ‘IL6.xlsx.4’\n",
            "\n",
            "IL6.xlsx.4          100%[===================>]   8.92K  --.-KB/s    in 0s      \n",
            "\n",
            "2022-07-07 07:01:59 (91.2 MB/s) - ‘IL6.xlsx.4’ saved [9132/9132]\n",
            "\n",
            "--2022-07-07 07:01:59--  https://raw.githubusercontent.com/toryn13//Rexamples/main/IL6plate.xls\n",
            "Resolving raw.githubusercontent.com (raw.githubusercontent.com)... 185.199.108.133, 185.199.109.133, 185.199.110.133, ...\n",
            "Connecting to raw.githubusercontent.com (raw.githubusercontent.com)|185.199.108.133|:443... connected.\n",
            "HTTP request sent, awaiting response... 301 Moved Permanently\n",
            "Location: /toryn13/Rexamples/main/IL6plate.xls [following]\n",
            "--2022-07-07 07:01:59--  https://raw.githubusercontent.com/toryn13/Rexamples/main/IL6plate.xls\n",
            "Reusing existing connection to raw.githubusercontent.com:443.\n",
            "HTTP request sent, awaiting response... 200 OK\n",
            "Length: 28160 (28K) [application/octet-stream]\n",
            "Saving to: ‘IL6plate.xls.2’\n",
            "\n",
            "IL6plate.xls.2      100%[===================>]  27.50K  --.-KB/s    in 0s      \n",
            "\n",
            "2022-07-07 07:01:59 (109 MB/s) - ‘IL6plate.xls.2’ saved [28160/28160]\n",
            "\n",
            "--2022-07-07 07:01:59--  https://raw.githubusercontent.com/toryn13//Rexamples/main/p53.jpeg\n",
            "Resolving raw.githubusercontent.com (raw.githubusercontent.com)... 185.199.108.133, 185.199.109.133, 185.199.110.133, ...\n",
            "Connecting to raw.githubusercontent.com (raw.githubusercontent.com)|185.199.108.133|:443... connected.\n",
            "HTTP request sent, awaiting response... 301 Moved Permanently\n",
            "Location: /toryn13/Rexamples/main/p53.jpeg [following]\n",
            "--2022-07-07 07:01:59--  https://raw.githubusercontent.com/toryn13/Rexamples/main/p53.jpeg\n",
            "Reusing existing connection to raw.githubusercontent.com:443.\n",
            "HTTP request sent, awaiting response... 200 OK\n",
            "Length: 31956 (31K) [image/jpeg]\n",
            "Saving to: ‘p53.jpeg.1’\n",
            "\n",
            "p53.jpeg.1          100%[===================>]  31.21K  --.-KB/s    in 0s      \n",
            "\n",
            "2022-07-07 07:01:59 (104 MB/s) - ‘p53.jpeg.1’ saved [31956/31956]\n",
            "\n"
          ]
        }
      ]
    },
    {
      "cell_type": "markdown",
      "source": [
        "## Importing data"
      ],
      "metadata": {
        "id": "XQjFHyJBXM1f"
      }
    },
    {
      "cell_type": "markdown",
      "source": [
        "We're using read_excel, if you have a tsv, csv or text. Use the readr package. Excel sheets or regions of cells can be imported.\n",
        "\n",
        "R has many data structures. These include\n",
        "\n",
        "- vector\n",
        "- list\n",
        "- matrix\n",
        "- data frame\n",
        "- factors"
      ],
      "metadata": {
        "id": "Mwz03NbNrBUo"
      }
    },
    {
      "cell_type": "code",
      "execution_count": 6,
      "metadata": {
        "colab": {
          "base_uri": "https://localhost:8080/"
        },
        "id": "-RQ6zYngjucJ",
        "outputId": "e5a19d06-5935-4e78-b1e7-4bbecf0a71c5"
      },
      "outputs": [
        {
          "output_type": "stream",
          "name": "stdout",
          "text": [
            "New names:\n",
            "• `` -> `...1`\n"
          ]
        }
      ],
      "source": [
        "%%R\n",
        "elisa_data<-read_excel(\"IL6plate.xls\", skip=1,n_max = 9)"
      ]
    },
    {
      "cell_type": "markdown",
      "source": [
        "## Add/change column names"
      ],
      "metadata": {
        "id": "bharC1dMXZ9k"
      }
    },
    {
      "cell_type": "code",
      "execution_count": 7,
      "metadata": {
        "colab": {
          "base_uri": "https://localhost:8080/"
        },
        "id": "Z0AYtcMGjuYN",
        "outputId": "5e808e42-9622-416c-8ef5-e4ce35705639"
      },
      "outputs": [
        {
          "output_type": "stream",
          "name": "stdout",
          "text": [
            "New names:\n",
            "• `` -> `...1`\n",
            "• `` -> `...4`\n"
          ]
        }
      ],
      "source": [
        "%%R\n",
        "standards<-read_excel(\"IL6plate.xls\", range = \"A14:D22\")\n",
        "colnames(standards)<-c(\"cell\", \"Conc\", \"rep1\", \"rep2\")"
      ]
    },
    {
      "cell_type": "markdown",
      "source": [
        "## Changing the data structure, long vs wide. Tidydata!"
      ],
      "metadata": {
        "id": "PnMRf8HbXepC"
      }
    },
    {
      "cell_type": "code",
      "execution_count": 8,
      "metadata": {
        "id": "uIZacIA8juEn"
      },
      "outputs": [],
      "source": [
        "%%R\n",
        "standardsL<-pivot_longer(standards, starts_with(\"rep\"), names_to = \"replicate\", values_to = \"Abs\")"
      ]
    },
    {
      "cell_type": "code",
      "execution_count": 9,
      "metadata": {
        "colab": {
          "base_uri": "https://localhost:8080/"
        },
        "id": "SP-VfW8Hq0NV",
        "outputId": "afe54a4c-bda1-4cd1-a15c-3182110cdb2b"
      },
      "outputs": [
        {
          "output_type": "stream",
          "name": "stdout",
          "text": [
            "# A tibble: 16 × 4\n",
            "   cell    Conc replicate   Abs\n",
            "   <chr>  <dbl> <chr>     <dbl>\n",
            " 1 A       0    rep1      0.054\n",
            " 2 A       0    rep2      0.052\n",
            " 3 B       7.81 rep1      0.134\n",
            " 4 B       7.81 rep2      0.126\n",
            " 5 C      15.6  rep1      0.183\n",
            " 6 C      15.6  rep2      0.187\n",
            " 7 D      31.2  rep1      0.307\n",
            " 8 D      31.2  rep2      0.31 \n",
            " 9 E      62.5  rep1      0.548\n",
            "10 E      62.5  rep2      0.553\n",
            "11 F     125    rep1      0.953\n",
            "12 F     125    rep2      0.949\n",
            "13 G     250    rep1      1.68 \n",
            "14 G     250    rep2      1.65 \n",
            "15 H     500    rep1      2.59 \n",
            "16 H     500    rep2      2.54 \n"
          ]
        }
      ],
      "source": [
        "%%R\n",
        "standardsL"
      ]
    },
    {
      "cell_type": "markdown",
      "source": [
        "## Using GGPLOT2"
      ],
      "metadata": {
        "id": "T8-fQuSkXpJ8"
      }
    },
    {
      "cell_type": "code",
      "execution_count": 10,
      "metadata": {
        "colab": {
          "base_uri": "https://localhost:8080/",
          "height": 497
        },
        "id": "XmrzBOf4kaJ4",
        "outputId": "9e25c04c-69e4-4dc9-b98e-25e9853b1ebf"
      },
      "outputs": [
        {
          "output_type": "display_data",
          "data": {
            "image/png": "[encoded data removed]"
          },
          "metadata": {}
        }
      ],
      "source": [
        "%%R\n",
        "standardsL%>%ggplot(aes(Conc,Abs))"
      ]
    },
    {
      "cell_type": "code",
      "execution_count": 11,
      "metadata": {
        "colab": {
          "base_uri": "https://localhost:8080/",
          "height": 497
        },
        "id": "okJVDCIoka6i",
        "outputId": "37527f25-faea-4378-c669-99b4a6d07e69"
      },
      "outputs": [
        {
          "output_type": "display_data",
          "data": {
            "image/png": "[encoded data removed]"
          },
          "metadata": {}
        }
      ],
      "source": [
        "%%R\n",
        "standardsL%>%ggplot(aes(Conc,Abs))+geom_point()"
      ]
    },
    {
      "cell_type": "code",
      "execution_count": 12,
      "metadata": {
        "colab": {
          "base_uri": "https://localhost:8080/",
          "height": 497
        },
        "id": "F_Hr92uNlcjU",
        "outputId": "aa5baa9b-cc35-447b-e589-68a66a855ba9"
      },
      "outputs": [
        {
          "output_type": "display_data",
          "data": {
            "image/png": "[encoded data removed]"
          },
          "metadata": {}
        }
      ],
      "source": [
        "%%R\n",
        "standardsL%>%ggplot(aes(Conc,Abs))+geom_point()+geom_line()"
      ]
    },
    {
      "cell_type": "code",
      "execution_count": 13,
      "metadata": {
        "colab": {
          "base_uri": "https://localhost:8080/",
          "height": 497
        },
        "id": "qInP6FpnlnVz",
        "outputId": "273ec058-118c-4076-8dd6-42a03c9ec1e0"
      },
      "outputs": [
        {
          "output_type": "display_data",
          "data": {
            "image/png": "[encoded data removed]"
          },
          "metadata": {}
        }
      ],
      "source": [
        "%%R\n",
        "standardsL%>%ggplot(aes(Conc,Abs, group=replicate))+geom_point(colour=\"blue\")+geom_line(colour=\"red\")"
      ]
    },
    {
      "cell_type": "code",
      "execution_count": 14,
      "metadata": {
        "colab": {
          "base_uri": "https://localhost:8080/",
          "height": 497
        },
        "id": "p8Mo2GqcwY79",
        "outputId": "daac0a3d-aa38-4d07-c292-387c0def6c65"
      },
      "outputs": [
        {
          "output_type": "display_data",
          "data": {
            "image/png": "[encoded data removed]"
          },
          "metadata": {}
        }
      ],
      "source": [
        "%%R\n",
        "standardsL%>%ggplot(aes(Conc,Abs, group=replicate))+geom_point(colour=\"blue\")+geom_line(colour=\"red\")+facet_grid(.~replicate)"
      ]
    },
    {
      "cell_type": "code",
      "source": [
        "%%R\n",
        "standardsL%>%ggplot(aes(Conc,Abs, color=replicate))+geom_point()+geom_line()+facet_grid(.~replicate)"
      ],
      "metadata": {
        "colab": {
          "base_uri": "https://localhost:8080/",
          "height": 497
        },
        "id": "IrOxr31Hra4T",
        "outputId": "af50db7b-d2d6-48a1-a4ff-c8440d52d541"
      },
      "execution_count": 15,
      "outputs": [
        {
          "output_type": "display_data",
          "data": {
            "image/png": "[encoded data removed]"
          },
          "metadata": {}
        }
      ]
    },
    {
      "cell_type": "code",
      "execution_count": 16,
      "metadata": {
        "colab": {
          "base_uri": "https://localhost:8080/",
          "height": 533
        },
        "id": "ru3l2m_6rpTr",
        "outputId": "75fcad77-dcd3-41d4-ae4d-9658612acbc7"
      },
      "outputs": [
        {
          "output_type": "stream",
          "name": "stderr",
          "text": [
            "R[write to console]: `geom_smooth()` using formula 'y ~ x'\n",
            "\n"
          ]
        },
        {
          "output_type": "display_data",
          "data": {
            "image/png": "[encoded data removed]"
          },
          "metadata": {}
        }
      ],
      "source": [
        "%%R\n",
        "curve<-standardsL%>%ggplot(aes(Conc,Abs))+geom_point()+geom_smooth(method=\"lm\")+theme_cowplot(font_size=20, line_size = 1)+xlab(c(\"IL6 pg/mL\"))\n",
        "curve"
      ]
    },
    {
      "cell_type": "markdown",
      "source": [
        "#Modifying values and creating new variables"
      ],
      "metadata": {
        "id": "qZX2znFrVNAW"
      }
    },
    {
      "cell_type": "code",
      "execution_count": 17,
      "metadata": {
        "id": "2teZibh8tsom"
      },
      "outputs": [],
      "source": [
        "%%R\n",
        "IL6<-read_excel(\"IL6.xlsx\")\n",
        "IL6<-IL6%>%mutate(Treat2 = case_when(Treat==\"Control\"~\"1\", Treat==\"PHA\"~\"2\"))\n",
        "IL6$Conc<-(IL6$Conc)/1000\n",
        "\n"
      ]
    },
    {
      "cell_type": "markdown",
      "source": [
        "Factors"
      ],
      "metadata": {
        "id": "lVguyAPlX-Rv"
      }
    },
    {
      "cell_type": "code",
      "source": [
        "%%R\n",
        "IL6$Treat2<-as.numeric(IL6$Treat2)\n",
        "IL6$Treat2<-factor(IL6$Treat2)\n",
        "IL6$Day<-factor(IL6$Day)"
      ],
      "metadata": {
        "id": "NMdiYzz-X9Ap"
      },
      "execution_count": 18,
      "outputs": []
    },
    {
      "cell_type": "markdown",
      "source": [
        "### Boxplots"
      ],
      "metadata": {
        "id": "xzXWocu5Xvx4"
      }
    },
    {
      "cell_type": "code",
      "execution_count": 19,
      "metadata": {
        "colab": {
          "base_uri": "https://localhost:8080/",
          "height": 497
        },
        "id": "Co5vYjMivY3j",
        "outputId": "4655551f-02ee-4905-bd27-39a759d66533"
      },
      "outputs": [
        {
          "output_type": "display_data",
          "data": {
            "image/png": "[encoded data removed]"
          },
          "metadata": {}
        }
      ],
      "source": [
        "%%R\n",
        "IL6%>%ggplot(aes(Treat2, Conc,fill=Treat))+geom_boxplot()+scale_fill_manual(values=c('blue', 'lightblue'))+theme_bw()"
      ]
    },
    {
      "cell_type": "code",
      "execution_count": 20,
      "metadata": {
        "colab": {
          "base_uri": "https://localhost:8080/",
          "height": 497
        },
        "id": "vztP3NN6vrmx",
        "outputId": "a4318f93-9df5-47d8-d56f-257caf7d9ffa"
      },
      "outputs": [
        {
          "output_type": "display_data",
          "data": {
            "image/png": "[encoded data removed]"
          },
          "metadata": {}
        }
      ],
      "source": [
        "%%R\n",
        "IL6%>%ggplot(aes(Treat2, Conc,fill=Treat))+geom_boxplot()+scale_fill_manual(values=c('blue', 'lightblue'))+theme_cowplot(12)"
      ]
    },
    {
      "cell_type": "code",
      "execution_count": 21,
      "metadata": {
        "colab": {
          "base_uri": "https://localhost:8080/",
          "height": 497
        },
        "id": "GUAUz4kzv4IJ",
        "outputId": "d5e7130f-8d04-43d1-ec4c-854c310d1eae"
      },
      "outputs": [
        {
          "output_type": "display_data",
          "data": {
            "image/png": "[encoded data removed]"
          },
          "metadata": {}
        }
      ],
      "source": [
        "%%R\n",
        "IL6%>%ggplot(aes(Treat, Conc,fill=Treat))+geom_boxplot()+geom_jitter()+scale_fill_manual(values=c('blue', 'lightblue'))+theme_cowplot(font_size=20)"
      ]
    },
    {
      "cell_type": "code",
      "execution_count": 22,
      "metadata": {
        "colab": {
          "base_uri": "https://localhost:8080/",
          "height": 497
        },
        "id": "QTZgkyhNwQEc",
        "outputId": "10433b7c-f669-4cc6-d7de-00a6075f27e9"
      },
      "outputs": [
        {
          "output_type": "display_data",
          "data": {
            "image/png": "[encoded data removed]"
          },
          "metadata": {}
        }
      ],
      "source": [
        "%%R\n",
        "boxplot<-IL6%>%ggplot(aes(Treat, Conc,fill=Treat))+geom_boxplot()+geom_jitter(size=3)+\n",
        "scale_fill_manual(values=c('blue', 'lightblue'))+\n",
        "theme_cowplot(font_size=20, line_size=1)+theme(legend.position='none')+\n",
        "xlab(NULL)+ylab(\"IL6 ng/mL\")+\n",
        "scale_y_continuous(limits = c(0, 50), expand = c(0, 0))\n",
        "boxplot"
      ]
    },
    {
      "cell_type": "markdown",
      "source": [
        "## Create a summary"
      ],
      "metadata": {
        "id": "W0pKvreyX162"
      }
    },
    {
      "cell_type": "code",
      "execution_count": 23,
      "metadata": {
        "colab": {
          "base_uri": "https://localhost:8080/"
        },
        "id": "xz2As6ny1Dpi",
        "outputId": "2b6ee316-6b89-4cf0-af41-22434e7d4aad"
      },
      "outputs": [
        {
          "output_type": "stream",
          "name": "stdout",
          "text": [
            "`summarise()` has grouped output by 'Treat'. You can override using the\n",
            "`.groups` argument.\n",
            "# A tibble: 4 × 4\n",
            "# Groups:   Treat [2]\n",
            "  Treat   Day   meanIL6   sdIL6\n",
            "  <chr>   <fct>   <dbl>   <dbl>\n",
            "1 Control 1      0.110  0.00213\n",
            "2 Control 3      0.0940 0.00618\n",
            "3 PHA     1     19.8    1.28   \n",
            "4 PHA     3     38.6    3.59   \n"
          ]
        }
      ],
      "source": [
        "%%R\n",
        "sumIl6<-IL6%>%group_by(Treat,Day)%>%summarise(meanIL6=mean(Conc), sdIL6=sd(Conc))\n",
        "sumIl6"
      ]
    },
    {
      "cell_type": "code",
      "execution_count": 24,
      "metadata": {
        "id": "DJDgumdt1SPB"
      },
      "outputs": [],
      "source": [
        "%%R\n",
        "sumIl6$Day<-factor(sumIl6$Day)"
      ]
    },
    {
      "cell_type": "markdown",
      "source": [
        "Bar Graphs"
      ],
      "metadata": {
        "id": "Pov_pS0sYD2w"
      }
    },
    {
      "cell_type": "code",
      "execution_count": 25,
      "metadata": {
        "colab": {
          "base_uri": "https://localhost:8080/",
          "height": 497
        },
        "id": "dstzP9781VV3",
        "outputId": "5b4bd56f-6a0b-4779-9684-f5d7b8ee3c13"
      },
      "outputs": [
        {
          "output_type": "display_data",
          "data": {
            "image/png": "[encoded data removed]"
          },
          "metadata": {}
        }
      ],
      "source": [
        "%%R\n",
        "#sumIl6%>%ggplot(aes(Day, meanIL6, fill=Treat))+geom_bar()\n",
        "sumIl6%>%ggplot(aes(Day, meanIL6, fill=Treat))+geom_bar(stat=\"identity\")\n",
        "sumIl6%>%ggplot(aes(Day, meanIL6, fill=Treat))+geom_bar(stat=\"identity\",position = position_dodge())\n"
      ]
    },
    {
      "cell_type": "markdown",
      "source": [
        "Error bars"
      ],
      "metadata": {
        "id": "Km2P1pNUYIuN"
      }
    },
    {
      "cell_type": "code",
      "source": [
        "%%R\n",
        "sumIl6%>%ggplot(aes(Day, meanIL6, fill=Treat))+geom_bar(stat=\"identity\", position = position_dodge())+\n",
        "geom_errorbar(aes(ymin = meanIL6-sdIL6, ymax = meanIL6+sdIL6), width=.1)+\n",
        "scale_y_continuous(limits = c(0, 50), expand = c(0, 0))"
      ],
      "metadata": {
        "colab": {
          "base_uri": "https://localhost:8080/",
          "height": 497
        },
        "id": "DKQ-Vpws54Bf",
        "outputId": "5c12015f-c338-4f3c-e6c0-8fb0ecd6cdb3"
      },
      "execution_count": 26,
      "outputs": [
        {
          "output_type": "display_data",
          "data": {
            "image/png": "[encoded data removed]"
          },
          "metadata": {}
        }
      ]
    },
    {
      "cell_type": "code",
      "source": [
        "%%R\n",
        "sumIl6%>%ggplot(aes(Day, meanIL6, fill=Treat))+geom_bar(stat=\"identity\", position = position_dodge())+\n",
        "geom_errorbar(aes(ymin = meanIL6-sdIL6, ymax = meanIL6+sdIL6),position=position_dodge(.9), width=0.8)+\n",
        "scale_y_continuous(limits = c(0, 50), expand = c(0, 0))"
      ],
      "metadata": {
        "colab": {
          "base_uri": "https://localhost:8080/",
          "height": 497
        },
        "id": "-M2WqsMA6bkw",
        "outputId": "cedbcf3a-070f-49fd-c032-a40201a20441"
      },
      "execution_count": 27,
      "outputs": [
        {
          "output_type": "display_data",
          "data": {
            "image/png": "[encoded data removed]"
          },
          "metadata": {}
        }
      ]
    },
    {
      "cell_type": "code",
      "source": [
        "%%R\n",
        "p2<-sumIl6%>%ggplot(aes(Day, meanIL6, fill=Treat))+geom_bar(stat=\"identity\", position = position_dodge(),colour=\"black\")+\n",
        "geom_errorbar(aes(ymin = meanIL6-sdIL6, ymax = meanIL6+sdIL6),position=position_dodge(.9), width=0.6)+\n",
        "scale_y_continuous(limits = c(0, 50), expand = c(0, 0))+\n",
        "scale_fill_manual(values=c('#66b3ff','#cce6ff'))+theme_cowplot(font_size = 20)+\n",
        "ylab(\"mean IL6 ng/mL\")\n",
        "p2"
      ],
      "metadata": {
        "colab": {
          "base_uri": "https://localhost:8080/",
          "height": 497
        },
        "id": "6EyHgJHP6ws2",
        "outputId": "d5ffac19-a24e-486e-9ccc-e2bd077eda7c"
      },
      "execution_count": 28,
      "outputs": [
        {
          "output_type": "display_data",
          "data": {
            "image/png": "[encoded data removed]"
          },
          "metadata": {}
        }
      ]
    },
    {
      "cell_type": "code",
      "source": [
        "%%R\n",
        "p3<-p2+geom_dotplot(data=IL6, aes(Day, Conc, fill=Treat),binaxis = \"y\",stackdir = \"center\", binpositions=\"all\", position=\"dodge\" )\n",
        "p3"
      ],
      "metadata": {
        "colab": {
          "base_uri": "https://localhost:8080/",
          "height": 533
        },
        "id": "ctW7f7d97PE0",
        "outputId": "6da82a80-949e-4ed5-c26c-2b7f5d38d135"
      },
      "execution_count": 29,
      "outputs": [
        {
          "output_type": "stream",
          "name": "stderr",
          "text": [
            "R[write to console]: Bin width defaults to 1/30 of the range of the data. Pick better value with `binwidth`.\n",
            "\n"
          ]
        },
        {
          "output_type": "display_data",
          "data": {
            "image/png": "[encoded data removed]"
          },
          "metadata": {}
        }
      ]
    },
    {
      "cell_type": "code",
      "source": [
        "%%R\n",
        "str(IL6)\n",
        "IL6$Treat<-factor(IL6$Treat)"
      ],
      "metadata": {
        "colab": {
          "base_uri": "https://localhost:8080/"
        },
        "id": "gKa33yzd7zR9",
        "outputId": "60da9db1-80dc-4ca4-bfdd-956e6b11c802"
      },
      "execution_count": 30,
      "outputs": [
        {
          "output_type": "stream",
          "name": "stdout",
          "text": [
            "tibble [15 × 4] (S3: tbl_df/tbl/data.frame)\n",
            " $ Treat : chr [1:15] \"Control\" \"Control\" \"Control\" \"PHA\" ...\n",
            " $ Conc  : num [1:15] 0.111 0.111 0.107 18.534 19.611 ...\n",
            " $ Day   : Factor w/ 2 levels \"1\",\"3\": 1 1 1 1 1 1 1 1 2 2 ...\n",
            " $ Treat2: Factor w/ 2 levels \"1\",\"2\": 1 1 1 2 2 2 2 2 1 1 ...\n"
          ]
        }
      ]
    },
    {
      "cell_type": "markdown",
      "source": [
        "So many plot options and annotations"
      ],
      "metadata": {
        "id": "oSW39WywYZvP"
      }
    },
    {
      "cell_type": "code",
      "source": [
        "%%R\n",
        "heat_map <- IL6%>%ggplot(aes(x = Day,y = Treat, fill = scale(Conc))) + geom_tile()+\n",
        "scale_fill_gradient2(low = \"blue\", mid=\"white\", high = \"red\")+coord_flip()+theme_minimal_grid()\n",
        "heat_map"
      ],
      "metadata": {
        "colab": {
          "base_uri": "https://localhost:8080/",
          "height": 497
        },
        "id": "4bEoPjQ5AGYu",
        "outputId": "2c81eec9-3ee2-4344-c27b-233600719d5e"
      },
      "execution_count": 31,
      "outputs": [
        {
          "output_type": "display_data",
          "data": {
            "image/png": "[encoded data removed]"
          },
          "metadata": {}
        }
      ]
    },
    {
      "cell_type": "markdown",
      "source": [
        "# Simple statistics"
      ],
      "metadata": {
        "id": "_ZcogDHV_QPc"
      }
    },
    {
      "cell_type": "code",
      "source": [
        "%%R\n",
        "IL6$group<-factor(paste0(IL6$Treat,\"_\",IL6$Day))\n",
        "str(IL6)"
      ],
      "metadata": {
        "colab": {
          "base_uri": "https://localhost:8080/"
        },
        "id": "B9xZaPMO8gZq",
        "outputId": "8e208248-ffea-45c6-b173-44479abe7ea8"
      },
      "execution_count": 32,
      "outputs": [
        {
          "output_type": "stream",
          "name": "stdout",
          "text": [
            "tibble [15 × 5] (S3: tbl_df/tbl/data.frame)\n",
            " $ Treat : Factor w/ 2 levels \"Control\",\"PHA\": 1 1 1 2 2 2 2 2 1 1 ...\n",
            " $ Conc  : num [1:15] 0.111 0.111 0.107 18.534 19.611 ...\n",
            " $ Day   : Factor w/ 2 levels \"1\",\"3\": 1 1 1 1 1 1 1 1 2 2 ...\n",
            " $ Treat2: Factor w/ 2 levels \"1\",\"2\": 1 1 1 2 2 2 2 2 1 1 ...\n",
            " $ group : Factor w/ 4 levels \"Control_1\",\"Control_3\",..: 1 1 1 3 3 3 3 3 2 2 ...\n"
          ]
        }
      ]
    },
    {
      "cell_type": "code",
      "source": [
        "%%R\n",
        "IL6%>%t_test(Conc~Treat)"
      ],
      "metadata": {
        "colab": {
          "base_uri": "https://localhost:8080/"
        },
        "id": "9VB_l-my8n4A",
        "outputId": "39d58083-eb13-4596-d7f1-1a253a0c89d2"
      },
      "execution_count": 33,
      "outputs": [
        {
          "output_type": "stream",
          "name": "stdout",
          "text": [
            "# A tibble: 1 × 8\n",
            "  .y.   group1  group2    n1    n2 statistic    df         p\n",
            "* <chr> <chr>   <chr>  <int> <int>     <dbl> <dbl>     <dbl>\n",
            "1 Conc  Control PHA        6     9     -8.24  8.00 0.0000354\n"
          ]
        }
      ]
    },
    {
      "cell_type": "code",
      "source": [
        "%%R\n",
        "IL6%>%filter(group==\"Control_1\")\n",
        "IL6%>%filter(group!=\"Control_1\")\n",
        "IL6%>%filter(group %in% c(\"PHA_1\", \"PHA_3\"))\n",
        "pha<-IL6%>%filter(group %in% c(\"PHA_1\", \"PHA_3\"))"
      ],
      "metadata": {
        "id": "TGmPZy3y9HaD"
      },
      "execution_count": 34,
      "outputs": []
    },
    {
      "cell_type": "code",
      "source": [
        "%%R\n",
        "pha"
      ],
      "metadata": {
        "colab": {
          "base_uri": "https://localhost:8080/"
        },
        "id": "q2fV5PptgGDo",
        "outputId": "2f0b7265-c323-4f3d-a183-1768e837d0aa"
      },
      "execution_count": 35,
      "outputs": [
        {
          "output_type": "stream",
          "name": "stdout",
          "text": [
            "# A tibble: 9 × 5\n",
            "  Treat  Conc Day   Treat2 group\n",
            "  <fct> <dbl> <fct> <fct>  <fct>\n",
            "1 PHA    18.5 1     2      PHA_1\n",
            "2 PHA    19.6 1     2      PHA_1\n",
            "3 PHA    19.2 1     2      PHA_1\n",
            "4 PHA    19.6 1     2      PHA_1\n",
            "5 PHA    21.9 1     2      PHA_1\n",
            "6 PHA    33.3 3     2      PHA_3\n",
            "7 PHA    39.7 3     2      PHA_3\n",
            "8 PHA    39.9 3     2      PHA_3\n",
            "9 PHA    41.4 3     2      PHA_3\n"
          ]
        }
      ]
    },
    {
      "cell_type": "markdown",
      "source": [
        "Base R t test ussing \",\" or \"~\""
      ],
      "metadata": {
        "id": "GnEQB_CAgMl2"
      }
    },
    {
      "cell_type": "code",
      "source": [
        "%%R\n",
        "pha\n",
        "t.test(Conc~group,data=pha)"
      ],
      "metadata": {
        "colab": {
          "base_uri": "https://localhost:8080/"
        },
        "id": "Y06BvkQJ-Kwk",
        "outputId": "40203de8-3393-473e-8b25-11be136be66e"
      },
      "execution_count": 36,
      "outputs": [
        {
          "output_type": "stream",
          "name": "stdout",
          "text": [
            "\n",
            "\tWelch Two Sample t-test\n",
            "\n",
            "data:  Conc by group\n",
            "t = -9.988, df = 3.6147, p-value = 0.0009248\n",
            "alternative hypothesis: true difference in means between group PHA_1 and group PHA_3 is not equal to 0\n",
            "95 percent confidence interval:\n",
            " -24.29456 -13.36959\n",
            "sample estimates:\n",
            "mean in group PHA_1 mean in group PHA_3 \n",
            "           19.75627            38.58835 \n",
            "\n"
          ]
        }
      ]
    },
    {
      "cell_type": "code",
      "source": [
        "%%R\n",
        "IL6 %>%\n",
        "t_test(data =., Conc ~ group) %>%\n",
        "adjust_pvalue(method = \"bonferroni\") %>%\n",
        "add_significance(\"p.adj\")"
      ],
      "metadata": {
        "colab": {
          "base_uri": "https://localhost:8080/"
        },
        "id": "yzvg8S7Z-ulr",
        "outputId": "6e495e6f-9413-4981-d7d1-27de0e7677e6"
      },
      "execution_count": 37,
      "outputs": [
        {
          "output_type": "stream",
          "name": "stdout",
          "text": [
            "# A tibble: 6 × 10\n",
            "  .y.   group1   group2    n1    n2 statistic    df       p   p.adj p.adj.signif\n",
            "  <chr> <chr>    <chr>  <int> <int>     <dbl> <dbl>   <dbl>   <dbl> <chr>       \n",
            "1 Conc  Control… Contr…     3     3      4.15  2.47 3.7 e-2 2.22e-1 ns          \n",
            "2 Conc  Control… PHA_1      3     5    -34.3   4.00 4.33e-6 2.60e-5 ****        \n",
            "3 Conc  Control… PHA_3      3     4    -21.4   3.00 2.23e-4 1.34e-3 **          \n",
            "4 Conc  Control… PHA_1      3     5    -34.3   4.00 4.32e-6 2.59e-5 ****        \n",
            "5 Conc  Control… PHA_3      3     4    -21.4   3.00 2.22e-4 1.33e-3 **          \n",
            "6 Conc  PHA_1    PHA_3      5     4     -9.99  3.61 9.25e-4 5.55e-3 **          \n"
          ]
        }
      ]
    },
    {
      "cell_type": "markdown",
      "source": [
        "# Add annotations to ggplot"
      ],
      "metadata": {
        "id": "VDIG9rJ5_XXA"
      }
    },
    {
      "cell_type": "code",
      "source": [
        "%%R\n",
        "bar<-p3+annotate(\"segment\", x = 1.2, xend = 2.3, y = 45,yend=45,\n",
        "  colour = \"black\")+annotate(\"text\",x = 1.8, y = 46, label=\"***\",size=10)\n",
        "bar"
      ],
      "metadata": {
        "colab": {
          "base_uri": "https://localhost:8080/",
          "height": 533
        },
        "id": "BSXZL2b-_h_K",
        "outputId": "52c88e70-ad41-4680-e5e5-7bf58d93ec5f"
      },
      "execution_count": 38,
      "outputs": [
        {
          "output_type": "stream",
          "name": "stderr",
          "text": [
            "R[write to console]: Bin width defaults to 1/30 of the range of the data. Pick better value with `binwidth`.\n",
            "\n"
          ]
        },
        {
          "output_type": "display_data",
          "data": {
            "image/png": "[encoded data removed]"
          },
          "metadata": {}
        }
      ]
    },
    {
      "cell_type": "markdown",
      "source": [
        "# Example with image Magick"
      ],
      "metadata": {
        "id": "Bx9dXgAGGfH1"
      }
    },
    {
      "cell_type": "code",
      "source": [
        "%%R\n",
        "cat<-image_read(\"cat.jpg\")\n",
        "#format width height \n",
        "#JPEG     389    428\n",
        "#crop image Crop image to a by b at position c,d\n",
        "crop_cat<-image_crop(cat, \"200x200+100+100\")\n",
        "\n",
        "#scale to width\n",
        "small_cat<-image_scale(cat, \"200\")\n",
        "small_crop_cat<-image_scale(crop_cat, \"100\")"
      ],
      "metadata": {
        "id": "YlmajA_-F2b0"
      },
      "execution_count": 39,
      "outputs": []
    },
    {
      "cell_type": "code",
      "source": [
        "%%R\n",
        "image_write(small_cat, path = \"small_cat.png\", format = \"png\")\n",
        "image_write(crop_cat, path = \"crop_cat.png\", format = \"png\")\n",
        "image_write(small_crop_cat, path = \"small_crop_cat.png\", format = \"png\")"
      ],
      "metadata": {
        "id": "KcpXd3WMGHNI"
      },
      "execution_count": 40,
      "outputs": []
    },
    {
      "cell_type": "markdown",
      "source": [
        "# Example using a western blot"
      ],
      "metadata": {
        "id": "pOrphszgsm7J"
      }
    },
    {
      "cell_type": "markdown",
      "source": [
        "Images can be resized and converted"
      ],
      "metadata": {
        "id": "gslOiQFGgq7v"
      }
    },
    {
      "cell_type": "code",
      "source": [
        "%%R\n",
        "a<-image_read(\"p53.jpeg\")\n",
        "print(a)\n",
        "a<-image_convert(a, \"png\")\n",
        "a<-image_crop(a, \"150x250+220+350\")"
      ],
      "metadata": {
        "colab": {
          "base_uri": "https://localhost:8080/"
        },
        "id": "jxlhqjPgGjnt",
        "outputId": "fdc4e11a-ad5f-4f3d-ff88-a29b1a08d7cf"
      },
      "execution_count": 41,
      "outputs": [
        {
          "output_type": "stream",
          "name": "stdout",
          "text": [
            "# A tibble: 1 × 7\n",
            "  format width height colorspace matte filesize density\n",
            "  <chr>  <int>  <int> <chr>      <lgl>    <int> <chr>  \n",
            "1 JPEG     703    806 sRGB       FALSE    31956 96x96  \n"
          ]
        }
      ]
    },
    {
      "cell_type": "code",
      "source": [
        "%%R\n",
        "a_text<-image_annotate(a, \"1      2\", size = 35, gravity = \"North\", color = \"black\")\n",
        "a_text<-image_annotate(a_text, \"Crop from p53 blot\", size = 12, gravity = \"south\", color = \"black\")\n",
        "\n",
        "image_write(a_text, path = \"crop.png\", format = \"png\")"
      ],
      "metadata": {
        "id": "qK8hmRUaG666"
      },
      "execution_count": 42,
      "outputs": []
    },
    {
      "cell_type": "code",
      "source": [
        "%%R\n",
        "blot<-ggdraw() +\n",
        "draw_image(\"crop.png\")"
      ],
      "metadata": {
        "id": "kQioD3ZsHYfs"
      },
      "execution_count": 43,
      "outputs": []
    },
    {
      "cell_type": "markdown",
      "source": [
        "#Adding images to GGPLOT2"
      ],
      "metadata": {
        "id": "fTsnkHfDrtSY"
      }
    },
    {
      "cell_type": "code",
      "source": [
        "%%R\n",
        "C1=seq(1:10)\n",
        "C2=seq(1:10)\n",
        "frame<-data.frame(C1,C2)\n",
        "frame"
      ],
      "metadata": {
        "colab": {
          "base_uri": "https://localhost:8080/"
        },
        "id": "VQzeKtda3Uxj",
        "outputId": "7811d365-b8bb-463d-dfb1-9240159b1e56"
      },
      "execution_count": 44,
      "outputs": [
        {
          "output_type": "stream",
          "name": "stdout",
          "text": [
            "   C1 C2\n",
            "1   1  1\n",
            "2   2  2\n",
            "3   3  3\n",
            "4   4  4\n",
            "5   5  5\n",
            "6   6  6\n",
            "7   7  7\n",
            "8   8  8\n",
            "9   9  9\n",
            "10 10 10\n"
          ]
        }
      ]
    },
    {
      "cell_type": "code",
      "source": [
        "%%R\n",
        "graph<-frame%>%ggplot(aes(C1, C2))+geom_point(color=\"white\")+theme_nothing()+annotate(\"segment\", x = 0, xend = 0.9, y =  5.5,yend=5.5,\n",
        "  colour = \"black\", arrow=arrow())+annotate(\"segment\", x = 0, xend = 0.9, y =  7.5,yend=7.5,\n",
        "  colour = \"black\", arrow=arrow())+annotate(\"text\",x = 9, y = 5.5, label=\"p53\",size=10)"
      ],
      "metadata": {
        "id": "XiL3vsIO3bIy"
      },
      "execution_count": 45,
      "outputs": []
    },
    {
      "cell_type": "code",
      "source": [
        "%%R\n",
        "img<-a_text%>%image_draw()\n",
        "blot2<-ggdraw()+draw_plot(graph)+draw_image(img)"
      ],
      "metadata": {
        "id": "Kg-i3Mgb3j82"
      },
      "execution_count": 46,
      "outputs": []
    },
    {
      "cell_type": "code",
      "source": [
        "%%R\n",
        "blot2"
      ],
      "metadata": {
        "colab": {
          "base_uri": "https://localhost:8080/",
          "height": 497
        },
        "id": "sU7MfgL-3zRj",
        "outputId": "8df94c89-82d4-4967-bd5a-ed571ad088c8"
      },
      "execution_count": 47,
      "outputs": [
        {
          "output_type": "display_data",
          "data": {
            "image/png": "[encoded data removed]"
          },
          "metadata": {}
        }
      ]
    },
    {
      "cell_type": "markdown",
      "source": [
        "#Combining plots"
      ],
      "metadata": {
        "id": "Uo-eNTVv0ZXM"
      }
    },
    {
      "cell_type": "code",
      "source": [
        "%%R\n",
        "\n",
        "plot_grid(curve,bar, labels = \"AUTO\")\n",
        "ggsave(\"example.pdf\")\n",
        "\n",
        "\n",
        "plot_grid(blot2,boxplot, labels = \"AUTO\", scale = c(0.7, .9))\n",
        "ggsave(\"example2.pdf\")\n"
      ],
      "metadata": {
        "colab": {
          "base_uri": "https://localhost:8080/"
        },
        "id": "YjNYwDBc0ZBU",
        "outputId": "04c7b11f-d3ee-494e-ff97-142eaac4a81c"
      },
      "execution_count": 48,
      "outputs": [
        {
          "output_type": "stream",
          "name": "stderr",
          "text": [
            "R[write to console]: `geom_smooth()` using formula 'y ~ x'\n",
            "\n",
            "R[write to console]: Bin width defaults to 1/30 of the range of the data. Pick better value with `binwidth`.\n",
            "\n",
            "R[write to console]: Saving 6.67 x 6.67 in image\n",
            "\n",
            "R[write to console]: Saving 6.67 x 6.67 in image\n",
            "\n"
          ]
        }
      ]
    }
  ],
  "metadata": {
    "colab": {
      "name": "R_example_PTG.ipynb",
      "provenance": [],
      "collapsed_sections": [],
      "authorship_tag": "ABX9TyMAL4ZiT2tvs7lVctyVVjOd",
      "include_colab_link": true
    },
    "kernelspec": {
      "display_name": "Python 3",
      "name": "python3"
    },
    "language_info": {
      "name": "python"
    }
  },
  "nbformat": 4,
  "nbformat_minor": 0
}