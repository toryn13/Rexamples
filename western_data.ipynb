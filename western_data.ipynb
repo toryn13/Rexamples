{
  "nbformat": 4,
  "nbformat_minor": 0,
  "metadata": {
    "colab": {
      "provenance": [],
      "authorship_tag": "ABX9TyMwD+2HLi11ukgkwDU/PvA/",
      "include_colab_link": true
    },
    "kernelspec": {
      "name": "python3",
      "display_name": "Python 3"
    },
    "language_info": {
      "name": "python"
    }
  },
  "cells": [
    {
      "cell_type": "markdown",
      "metadata": {
        "id": "view-in-github",
        "colab_type": "text"
      },
      "source": [
        "<a href=\"https://colab.research.google.com/github/toryn13/Rexamples/blob/main/western_data.ipynb\" target=\"_parent\"><img src=\"https://colab.research.google.com/assets/colab-badge.svg\" alt=\"Open In Colab\"/></a>"
      ]
    },
    {
      "cell_type": "code",
      "source": [
        "%load_ext rpy2.ipython"
      ],
      "metadata": {
        "id": "RQebXgCmgiau"
      },
      "execution_count": null,
      "outputs": []
    },
    {
      "cell_type": "code",
      "source": [
        "%%R\n",
        "download.file(\"https://raw.githubusercontent.com/toryn13/Rexamples/main/blot_quant.csv\", \"blot_quant\")"
      ],
      "metadata": {
        "id": "q3cnovcuefo_"
      },
      "execution_count": null,
      "outputs": []
    },
    {
      "cell_type": "code",
      "source": [
        "%%R\n",
        "library(tidyverse)\n",
        "blot_quant<-read_csv(\"/content/blot_quant\")"
      ],
      "metadata": {
        "colab": {
          "base_uri": "https://localhost:8080/"
        },
        "id": "GjOKJSV_efby",
        "outputId": "0238cd2d-0018-4367-f23e-d990e8db36f6"
      },
      "execution_count": null,
      "outputs": [
        {
          "output_type": "stream",
          "name": "stdout",
          "text": [
            "── Attaching core tidyverse packages ──────────────────────── tidyverse 2.0.0 ──\n",
            "✔ dplyr     1.1.4     ✔ readr     2.1.5\n",
            "✔ forcats   1.0.0     ✔ stringr   1.5.1\n",
            "✔ ggplot2   3.4.4     ✔ tibble    3.2.1\n",
            "✔ lubridate 1.9.3     ✔ tidyr     1.3.1\n",
            "✔ purrr     1.0.2     \n",
            "── Conflicts ────────────────────────────────────────── tidyverse_conflicts() ──\n",
            "✖ dplyr::filter() masks stats::filter()\n",
            "✖ dplyr::lag()    masks stats::lag()\n",
            "ℹ Use the conflicted package (<http://conflicted.r-lib.org/>) to force all conflicts to become errors\n",
            "Rows: 16 Columns: 4\n",
            "── Column specification ────────────────────────────────────────────────────────\n",
            "Delimiter: \",\"\n",
            "chr (1): Area\n",
            "dbl (3): Wavelength, Intensity, Group\n",
            "\n",
            "ℹ Use `spec()` to retrieve the full column specification for this data.\n",
            "ℹ Specify the column types or set `show_col_types = FALSE` to quiet this message.\n"
          ]
        }
      ]
    },
    {
      "cell_type": "code",
      "source": [
        "%%R\n",
        "blot_quant<-blot_quant%>%pivot_wider(names_from = Wavelength , values_from = Intensity )"
      ],
      "metadata": {
        "id": "h90qUuaige2m"
      },
      "execution_count": null,
      "outputs": []
    },
    {
      "cell_type": "code",
      "source": [
        "%%R\n",
        "blot_quant"
      ],
      "metadata": {
        "colab": {
          "base_uri": "https://localhost:8080/"
        },
        "id": "tCyMuW53iLfX",
        "outputId": "426073b2-8f3e-4671-814d-aab223383d7f"
      },
      "execution_count": null,
      "outputs": [
        {
          "output_type": "stream",
          "name": "stdout",
          "text": [
            "# A tibble: 8 × 4\n",
            "  Area  Group `800` `700`\n",
            "  <chr> <dbl> <dbl> <dbl>\n",
            "1 Lane1     1 17900 38900\n",
            "2 Lane2     1 16500 33700\n",
            "3 Lane3     1 17900 29000\n",
            "4 Lane4     1 16500 24600\n",
            "5 Lane5     2 10800 32300\n",
            "6 Lane6     2  7060 27800\n",
            "7 Lane7     2  8020 30600\n",
            "8 Lane8     2  6590 34200\n"
          ]
        }
      ]
    },
    {
      "cell_type": "code",
      "source": [
        "%%R\n",
        "colnames(blot_quant)<-c(\"Area\", \"Group\", \"W800\", \"W700\")"
      ],
      "metadata": {
        "id": "1Sih7b0vicOC"
      },
      "execution_count": null,
      "outputs": []
    },
    {
      "cell_type": "code",
      "source": [
        "%%R\n",
        "blot_quant<-blot_quant%>%mutate(norm_ratio=W800/W700)\n",
        "blot_quant"
      ],
      "metadata": {
        "id": "r0OM_WTUgtNL",
        "colab": {
          "base_uri": "https://localhost:8080/"
        },
        "outputId": "4c906f79-a478-4df0-bd1c-19a867fb3ae7"
      },
      "execution_count": null,
      "outputs": [
        {
          "output_type": "stream",
          "name": "stdout",
          "text": [
            "# A tibble: 8 × 5\n",
            "  Area  Group  W800  W700 norm_ratio\n",
            "  <chr> <dbl> <dbl> <dbl>      <dbl>\n",
            "1 Lane1     1 17900 38900      0.460\n",
            "2 Lane2     1 16500 33700      0.490\n",
            "3 Lane3     1 17900 29000      0.617\n",
            "4 Lane4     1 16500 24600      0.671\n",
            "5 Lane5     2 10800 32300      0.334\n",
            "6 Lane6     2  7060 27800      0.254\n",
            "7 Lane7     2  8020 30600      0.262\n",
            "8 Lane8     2  6590 34200      0.193\n"
          ]
        }
      ]
    },
    {
      "cell_type": "code",
      "source": [
        "%%R\n",
        "blotmean<-blot_quant%>%group_by(Group)%>%summarise(mean_ratio=mean(norm_ratio), sd_ratio=sd(norm_ratio))"
      ],
      "metadata": {
        "id": "kaASRtfuiuf0"
      },
      "execution_count": null,
      "outputs": []
    },
    {
      "cell_type": "code",
      "source": [
        "%%R\n",
        "blotmean"
      ],
      "metadata": {
        "colab": {
          "base_uri": "https://localhost:8080/"
        },
        "id": "aebECd6bgePH",
        "outputId": "9bc24832-8e7d-49f3-a3ae-c2b586de1bbd"
      },
      "execution_count": null,
      "outputs": [
        {
          "output_type": "stream",
          "name": "stdout",
          "text": [
            "# A tibble: 2 × 3\n",
            "  Group mean_ratio sd_ratio\n",
            "  <dbl>      <dbl>    <dbl>\n",
            "1     1      0.559   0.101 \n",
            "2     2      0.261   0.0580\n"
          ]
        }
      ]
    },
    {
      "cell_type": "code",
      "source": [
        "%%R\n",
        "t.test(norm_ratio~Group, data=blot_quant)"
      ],
      "metadata": {
        "colab": {
          "base_uri": "https://localhost:8080/"
        },
        "id": "EBg03DVb2rBj",
        "outputId": "d2d7de35-7cba-445d-feac-05bbd3998aaa"
      },
      "execution_count": null,
      "outputs": [
        {
          "output_type": "stream",
          "name": "stdout",
          "text": [
            "\n",
            "\tWelch Two Sample t-test\n",
            "\n",
            "data:  norm_ratio by Group\n",
            "t = 5.1371, df = 4.7923, p-value = 0.004124\n",
            "alternative hypothesis: true difference in means between group 1 and group 2 is not equal to 0\n",
            "95 percent confidence interval:\n",
            " 0.1472434 0.4500755\n",
            "sample estimates:\n",
            "mean in group 1 mean in group 2 \n",
            "      0.5594354       0.2607759 \n",
            "\n"
          ]
        }
      ]
    },
    {
      "cell_type": "code",
      "source": [
        "%%R\n",
        "blotmean$Group<-factor(blotmean$Group, levels=c(\"1\", \"2\"))"
      ],
      "metadata": {
        "id": "S9NVfjSxg7nU"
      },
      "execution_count": null,
      "outputs": []
    },
    {
      "cell_type": "code",
      "source": [
        "%%R\n",
        "p2<-blotmean%>%ggplot(aes(Group, mean_ratio, fill=Group))+geom_bar(stat=\"identity\", position = position_dodge(),colour=\"black\")+\n",
        "geom_errorbar(aes(ymin = mean_ratio-sd_ratio, ymax = mean_ratio+sd_ratio),position=position_dodge(.9), width=0.6)+\n",
        "scale_y_continuous(limits = c(0, 1), expand = c(0, 0))+\n",
        "scale_fill_manual(values=c('#66b3ff','#cce6ff'))+theme_bw()\n",
        "ylab(\"Ratio\")\n",
        "p2"
      ],
      "metadata": {
        "colab": {
          "base_uri": "https://localhost:8080/",
          "height": 497
        },
        "id": "EW34qzCdfZkY",
        "outputId": "02210757-85e6-450b-824c-0b98d3752c20"
      },
      "execution_count": null,
      "outputs": [
        {
          "output_type": "display_data",
          "data": {
            "image/png": "[encoded data removed]"
          },
          "metadata": {}
        }
      ]
    }
  ]
}