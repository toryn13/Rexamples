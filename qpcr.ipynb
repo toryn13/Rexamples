{
  "nbformat": 4,
  "nbformat_minor": 0,
  "metadata": {
    "colab": {
      "provenance": [],
      "authorship_tag": "ABX9TyN22zF2+PrPeXxY1WlgdaRa",
      "include_colab_link": true
    },
    "kernelspec": {
      "name": "python3",
      "display_name": "Python 3"
    },
    "language_info": {
      "name": "python"
    }
  },
  "cells": [
    {
      "cell_type": "markdown",
      "metadata": {
        "id": "view-in-github",
        "colab_type": "text"
      },
      "source": [
        "<a href=\"https://colab.research.google.com/github/toryn13/Rexamples/blob/main/qpcr.ipynb\" target=\"_parent\"><img src=\"https://colab.research.google.com/assets/colab-badge.svg\" alt=\"Open In Colab\"/></a>"
      ]
    },
    {
      "cell_type": "code",
      "execution_count": null,
      "metadata": {
        "id": "L15eWPeZiN3I"
      },
      "outputs": [],
      "source": [
        "%load_ext rpy2.ipython"
      ]
    },
    {
      "cell_type": "code",
      "source": [
        "%%R\n",
        "download.file(\"https://raw.githubusercontent.com/toryn13/Rexamples/main/QPCR.csv\", \"qpcr.csv\")"
      ],
      "metadata": {
        "id": "gdgg8Sr8JgPk"
      },
      "execution_count": null,
      "outputs": []
    },
    {
      "cell_type": "code",
      "source": [
        "%%R\n",
        "library(tidyverse)"
      ],
      "metadata": {
        "colab": {
          "base_uri": "https://localhost:8080/"
        },
        "id": "g7PgeOVqiwlT",
        "outputId": "9c1734f9-5181-4eb2-98d1-d4dceea0f3cf"
      },
      "execution_count": null,
      "outputs": [
        {
          "output_type": "stream",
          "name": "stdout",
          "text": [
            "── Attaching core tidyverse packages ──────────────────────── tidyverse 2.0.0 ──\n",
            "✔ dplyr     1.1.4     ✔ readr     2.1.5\n",
            "✔ forcats   1.0.0     ✔ stringr   1.5.1\n",
            "✔ ggplot2   3.4.4     ✔ tibble    3.2.1\n",
            "✔ lubridate 1.9.3     ✔ tidyr     1.3.1\n",
            "✔ purrr     1.0.2     \n",
            "── Conflicts ────────────────────────────────────────── tidyverse_conflicts() ──\n",
            "✖ dplyr::filter() masks stats::filter()\n",
            "✖ dplyr::lag()    masks stats::lag()\n",
            "ℹ Use the conflicted package (<http://conflicted.r-lib.org/>) to force all conflicts to become errors\n"
          ]
        }
      ]
    },
    {
      "cell_type": "code",
      "source": [
        "%%R\n",
        "qpcr<-read_csv(\"qpcr.csv\")"
      ],
      "metadata": {
        "colab": {
          "base_uri": "https://localhost:8080/"
        },
        "id": "8zkWgb2BJ6uj",
        "outputId": "fbdb498d-2260-42aa-cd9d-82942b3fb204"
      },
      "execution_count": null,
      "outputs": [
        {
          "output_type": "stream",
          "name": "stdout",
          "text": [
            "Rows: 12 Columns: 4\n",
            "── Column specification ────────────────────────────────────────────────────────\n",
            "Delimiter: \",\"\n",
            "chr (1): Group\n",
            "dbl (3): HouseKeepr, Gene1, Gene2\n",
            "\n",
            "ℹ Use `spec()` to retrieve the full column specification for this data.\n",
            "ℹ Specify the column types or set `show_col_types = FALSE` to quiet this message.\n"
          ]
        }
      ]
    },
    {
      "cell_type": "code",
      "source": [
        "%%R\n",
        "qpcr<-qpcr%>%mutate(Gene1dCT=Gene1-HouseKeepr, Gene2dCT=Gene2-HouseKeepr)\n",
        "qpcr"
      ],
      "metadata": {
        "colab": {
          "base_uri": "https://localhost:8080/"
        },
        "id": "BaguXxPvKAw3",
        "outputId": "8af53f6e-20b0-4852-e434-8c2d42ec39eb"
      },
      "execution_count": null,
      "outputs": [
        {
          "output_type": "stream",
          "name": "stdout",
          "text": [
            "# A tibble: 12 × 6\n",
            "   HouseKeepr Gene1 Gene2 Group Gene1dCT Gene2dCT\n",
            "        <dbl> <dbl> <dbl> <chr>    <dbl>    <dbl>\n",
            " 1       21.2  29.9  23.5 KO        8.77    2.34 \n",
            " 2       20.1  25.0  22.2 WT        4.89    2.11 \n",
            " 3       20.3  30.0  21.3 WT        9.64    0.941\n",
            " 4       20.2  25.4  20.4 WT        5.17    0.212\n",
            " 5       23.2  30.4  23.5 KO        7.14    0.252\n",
            " 6       20.3  24.7  21.2 WT        4.41    0.886\n",
            " 7       19.9  24.9  20.6 WT        5.02    0.716\n",
            " 8       20.3  29.9  21.2 KO        9.67    0.910\n",
            " 9       21.3  25.6  22.1 WT        4.23    0.714\n",
            "10       20.8  29.9  21.8 KO        9.17    1.08 \n",
            "11       20.7  30.4  21.6 KO        9.77    0.890\n",
            "12       21.4  25.7  23.0 WT        4.25    1.61 \n"
          ]
        }
      ]
    },
    {
      "cell_type": "code",
      "source": [
        "%%R\n",
        "Gene1con<-as.numeric(qpcr[2,5])\n",
        "Gene2con<-as.numeric(qpcr[2,6])"
      ],
      "metadata": {
        "id": "WsOLqo-qOmX6"
      },
      "execution_count": null,
      "outputs": []
    },
    {
      "cell_type": "code",
      "source": [
        "%%R\n",
        "Gene1con"
      ],
      "metadata": {
        "colab": {
          "base_uri": "https://localhost:8080/"
        },
        "id": "laqBPM8kSO_7",
        "outputId": "c7c59124-d72b-41c7-b6d4-9703d7b84d3c"
      },
      "execution_count": null,
      "outputs": [
        {
          "output_type": "stream",
          "name": "stdout",
          "text": [
            "[1] 4.887\n"
          ]
        }
      ]
    },
    {
      "cell_type": "code",
      "source": [
        "%%R\n",
        "qpcr<-qpcr%>%mutate(Gene1ddCT=Gene1dCT-Gene1con, Gene2ddCT=Gene2dCT-Gene2con)\n",
        "qpcr"
      ],
      "metadata": {
        "colab": {
          "base_uri": "https://localhost:8080/"
        },
        "id": "PgEzg77mP8vB",
        "outputId": "63d5e2b8-af17-4b27-8814-c0bef0d00996"
      },
      "execution_count": null,
      "outputs": [
        {
          "output_type": "stream",
          "name": "stdout",
          "text": [
            "# A tibble: 12 × 8\n",
            "   HouseKeepr Gene1 Gene2 Group Gene1dCT Gene2dCT Gene1ddCT Gene2ddCT\n",
            "        <dbl> <dbl> <dbl> <chr>    <dbl>    <dbl>     <dbl>     <dbl>\n",
            " 1       21.2  29.9  23.5 KO        8.77    2.34      3.89      0.231\n",
            " 2       20.1  25.0  22.2 WT        4.89    2.11      0         0    \n",
            " 3       20.3  30.0  21.3 WT        9.64    0.941     4.75     -1.17 \n",
            " 4       20.2  25.4  20.4 WT        5.17    0.212     0.286    -1.90 \n",
            " 5       23.2  30.4  23.5 KO        7.14    0.252     2.25     -1.86 \n",
            " 6       20.3  24.7  21.2 WT        4.41    0.886    -0.476    -1.22 \n",
            " 7       19.9  24.9  20.6 WT        5.02    0.716     0.131    -1.39 \n",
            " 8       20.3  29.9  21.2 KO        9.67    0.910     4.79     -1.20 \n",
            " 9       21.3  25.6  22.1 WT        4.23    0.714    -0.662    -1.39 \n",
            "10       20.8  29.9  21.8 KO        9.17    1.08      4.28     -1.03 \n",
            "11       20.7  30.4  21.6 KO        9.77    0.890     4.88     -1.22 \n",
            "12       21.4  25.7  23.0 WT        4.25    1.61     -0.639    -0.497\n"
          ]
        }
      ]
    },
    {
      "cell_type": "code",
      "source": [
        "%%R\n",
        "qpcr<-qpcr%>%mutate(Gene1RQ=2^(-Gene1ddCT), Gene2RQ=2^(-Gene2ddCT))\n",
        "qpcr"
      ],
      "metadata": {
        "colab": {
          "base_uri": "https://localhost:8080/"
        },
        "id": "2oMuAw4ySrFE",
        "outputId": "045fcc31-1614-4448-e52b-616b119b7765"
      },
      "execution_count": null,
      "outputs": [
        {
          "output_type": "stream",
          "name": "stdout",
          "text": [
            "# A tibble: 12 × 10\n",
            "   HouseKeepr Gene1 Gene2 Group Gene1dCT Gene2dCT Gene1ddCT Gene2ddCT Gene1RQ\n",
            "        <dbl> <dbl> <dbl> <chr>    <dbl>    <dbl>     <dbl>     <dbl>   <dbl>\n",
            " 1       21.2  29.9  23.5 KO        8.77    2.34      3.89      0.231  0.0676\n",
            " 2       20.1  25.0  22.2 WT        4.89    2.11      0         0      1     \n",
            " 3       20.3  30.0  21.3 WT        9.64    0.941     4.75     -1.17   0.0370\n",
            " 4       20.2  25.4  20.4 WT        5.17    0.212     0.286    -1.90   0.820 \n",
            " 5       23.2  30.4  23.5 KO        7.14    0.252     2.25     -1.86   0.210 \n",
            " 6       20.3  24.7  21.2 WT        4.41    0.886    -0.476    -1.22   1.39  \n",
            " 7       19.9  24.9  20.6 WT        5.02    0.716     0.131    -1.39   0.913 \n",
            " 8       20.3  29.9  21.2 KO        9.67    0.910     4.79     -1.20   0.0362\n",
            " 9       21.3  25.6  22.1 WT        4.23    0.714    -0.662    -1.39   1.58  \n",
            "10       20.8  29.9  21.8 KO        9.17    1.08      4.28     -1.03   0.0515\n",
            "11       20.7  30.4  21.6 KO        9.77    0.890     4.88     -1.22   0.0339\n",
            "12       21.4  25.7  23.0 WT        4.25    1.61     -0.639    -0.497  1.56  \n",
            "# ℹ 1 more variable: Gene2RQ <dbl>\n"
          ]
        }
      ]
    },
    {
      "cell_type": "code",
      "source": [
        "%%R\n",
        "qpcr$Group<-factor(qpcr$Group, levels=c(\"WT\", \"KO\"))\n",
        "qpcr"
      ],
      "metadata": {
        "colab": {
          "base_uri": "https://localhost:8080/"
        },
        "id": "UDEdj1XdNgjB",
        "outputId": "5e430d93-ff4b-46a1-c3ba-c277f171ee7c"
      },
      "execution_count": null,
      "outputs": [
        {
          "output_type": "stream",
          "name": "stdout",
          "text": [
            "# A tibble: 12 × 10\n",
            "   HouseKeepr Gene1 Gene2 Group Gene1dCT Gene2dCT Gene1ddCT Gene2ddCT Gene1RQ\n",
            "        <dbl> <dbl> <dbl> <fct>    <dbl>    <dbl>     <dbl>     <dbl>   <dbl>\n",
            " 1       21.2  29.9  23.5 KO        8.77    2.34      3.89      0.231  0.0676\n",
            " 2       20.1  25.0  22.2 WT        4.89    2.11      0         0      1     \n",
            " 3       20.3  30.0  21.3 WT        9.64    0.941     4.75     -1.17   0.0370\n",
            " 4       20.2  25.4  20.4 WT        5.17    0.212     0.286    -1.90   0.820 \n",
            " 5       23.2  30.4  23.5 KO        7.14    0.252     2.25     -1.86   0.210 \n",
            " 6       20.3  24.7  21.2 WT        4.41    0.886    -0.476    -1.22   1.39  \n",
            " 7       19.9  24.9  20.6 WT        5.02    0.716     0.131    -1.39   0.913 \n",
            " 8       20.3  29.9  21.2 KO        9.67    0.910     4.79     -1.20   0.0362\n",
            " 9       21.3  25.6  22.1 WT        4.23    0.714    -0.662    -1.39   1.58  \n",
            "10       20.8  29.9  21.8 KO        9.17    1.08      4.28     -1.03   0.0515\n",
            "11       20.7  30.4  21.6 KO        9.77    0.890     4.88     -1.22   0.0339\n",
            "12       21.4  25.7  23.0 WT        4.25    1.61     -0.639    -0.497  1.56  \n",
            "# ℹ 1 more variable: Gene2RQ <dbl>\n"
          ]
        }
      ]
    },
    {
      "cell_type": "code",
      "source": [
        "%%R\n",
        "qpcr%>%ggplot(aes(Group, Gene1RQ))+geom_boxplot()+geom_jitter()"
      ],
      "metadata": {
        "colab": {
          "base_uri": "https://localhost:8080/",
          "height": 497
        },
        "id": "f1qZ-cT0jUyE",
        "outputId": "b703b565-412a-4bf5-ef14-64e5cecc6017"
      },
      "execution_count": null,
      "outputs": [
        {
          "output_type": "display_data",
          "data": {
            "image/png": "[encoded data removed]"
          },
          "metadata": {}
        }
      ]
    },
    {
      "cell_type": "code",
      "source": [
        "%%R\n",
        "wilcox.test(Gene1RQ ~ Group, data = qpcr, exact = FALSE)"
      ],
      "metadata": {
        "colab": {
          "base_uri": "https://localhost:8080/"
        },
        "id": "XeVjURr0j2lU",
        "outputId": "c3c25c1d-da15-464e-9432-4af00c3d0790"
      },
      "execution_count": null,
      "outputs": [
        {
          "output_type": "stream",
          "name": "stdout",
          "text": [
            "\n",
            "\tWilcoxon rank sum test with continuity correction\n",
            "\n",
            "data:  Gene1RQ by Group\n",
            "W = 32, p-value = 0.02299\n",
            "alternative hypothesis: true location shift is not equal to 0\n",
            "\n"
          ]
        }
      ]
    }
  ]
}