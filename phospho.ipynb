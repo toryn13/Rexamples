{
  "nbformat": 4,
  "nbformat_minor": 0,
  "metadata": {
    "colab": {
      "provenance": [],
      "authorship_tag": "ABX9TyMrEXQovCBcQv8iJEIexK8v",
      "include_colab_link": true
    },
    "kernelspec": {
      "name": "python3",
      "display_name": "Python 3"
    },
    "language_info": {
      "name": "python"
    }
  },
  "cells": [
    {
      "cell_type": "markdown",
      "metadata": {
        "id": "view-in-github",
        "colab_type": "text"
      },
      "source": [
        "<a href=\"https://colab.research.google.com/github/toryn13/Rexamples/blob/main/phospho.ipynb\" target=\"_parent\"><img src=\"https://colab.research.google.com/assets/colab-badge.svg\" alt=\"Open In Colab\"/></a>"
      ]
    },
    {
      "cell_type": "code",
      "source": [
        "%load_ext rpy2.ipython"
      ],
      "metadata": {
        "id": "K_fuSqcU3SNq"
      },
      "execution_count": null,
      "outputs": []
    },
    {
      "cell_type": "code",
      "execution_count": null,
      "metadata": {
        "id": "vdI5gS-i23of"
      },
      "outputs": [],
      "source": [
        "%%R\n",
        "download.file(\"https://raw.githubusercontent.com/toryn13/Rexamples/main/phospho.txt\", \"phospho.txt\")"
      ]
    },
    {
      "cell_type": "code",
      "source": [
        "%%R\n",
        "library(tidyverse)"
      ],
      "metadata": {
        "id": "jWjufa_l3YO5"
      },
      "execution_count": null,
      "outputs": []
    },
    {
      "cell_type": "code",
      "source": [
        "%%R\n",
        "phospho<-read_table(\"phospho.txt\")"
      ],
      "metadata": {
        "colab": {
          "base_uri": "https://localhost:8080/"
        },
        "id": "NtVTjhqT3IVg",
        "outputId": "b5376d71-ffc2-49a8-e73c-1040e98d2687"
      },
      "execution_count": null,
      "outputs": [
        {
          "output_type": "stream",
          "name": "stdout",
          "text": [
            "\n",
            "── Column specification ────────────────────────────────────────────────────────\n",
            "cols(\n",
            "  pAFT2 = col_double(),\n",
            "  pHSP27 = col_double(),\n",
            "  pP38 = col_double(),\n",
            "  pP90 = col_double(),\n",
            "  pMEK = col_double(),\n",
            "  pSTAT3 = col_double(),\n",
            "  GROUP = col_character(),\n",
            "  TREATMENT = col_character(),\n",
            "  SUBJECT = col_double()\n",
            ")\n",
            "\n"
          ]
        }
      ]
    },
    {
      "cell_type": "code",
      "source": [
        "%%R\n",
        "phospho"
      ],
      "metadata": {
        "colab": {
          "base_uri": "https://localhost:8080/"
        },
        "id": "2N71rsct3fLN",
        "outputId": "ffa8b3bf-bcc6-468d-d961-5c000dd9bb0f"
      },
      "execution_count": null,
      "outputs": [
        {
          "output_type": "stream",
          "name": "stdout",
          "text": [
            "# A tibble: 36 × 9\n",
            "   pAFT2 pHSP27  pP38  pP90  pMEK pSTAT3 GROUP TREATMENT SUBJECT\n",
            "   <dbl>  <dbl> <dbl> <dbl> <dbl>  <dbl> <chr> <chr>       <dbl>\n",
            " 1 1114.    112  225.  235  1711.  1711. H     Control         1\n",
            " 2  433.    132  156.   86   224.  1711. H     Control         2\n",
            " 3  232.    193  284.   76   224.  1915. H     Control         3\n",
            " 4  727.    176  174.   87   843.   382. H     Control         4\n",
            " 5 1538.    101  252.  228. 2196.  1199. H     Control         5\n",
            " 6 1068.    311  265.   97   995.   547. H     Control         6\n",
            " 7  853.    319  313.  162  2159.   294. H     Control         7\n",
            " 8  191.    352  182.   79   361.  1360. H     Control         8\n",
            " 9 2827.    156  229.  230.  766.   316. H     Control         9\n",
            "10  735.    195  319.  181  1711.  1642. RA    Control        10\n",
            "# ℹ 26 more rows\n",
            "# ℹ Use `print(n = ...)` to see more rows\n"
          ]
        }
      ]
    },
    {
      "cell_type": "code",
      "source": [
        "%%R\n",
        "phosphoL<-phospho%>%pivot_longer(cols=starts_with(\"p\"), values_to=\"Intensity\", names_to=\"protein\")"
      ],
      "metadata": {
        "id": "SeqpR6FD3_H0"
      },
      "execution_count": null,
      "outputs": []
    },
    {
      "cell_type": "code",
      "source": [
        "%%R\n",
        "phosphoL"
      ],
      "metadata": {
        "colab": {
          "base_uri": "https://localhost:8080/"
        },
        "id": "kPGHZqWo4ZJX",
        "outputId": "b69dd1b4-a6a6-4fd3-a0e9-bb8b2d6260da"
      },
      "execution_count": null,
      "outputs": [
        {
          "output_type": "stream",
          "name": "stdout",
          "text": [
            "# A tibble: 216 × 5\n",
            "   GROUP TREATMENT SUBJECT protein Intensity\n",
            "   <chr> <chr>       <dbl> <chr>       <dbl>\n",
            " 1 H     Control         1 pAFT2       1114.\n",
            " 2 H     Control         1 pHSP27       112 \n",
            " 3 H     Control         1 pP38         225.\n",
            " 4 H     Control         1 pP90         235 \n",
            " 5 H     Control         1 pMEK        1711.\n",
            " 6 H     Control         1 pSTAT3      1711.\n",
            " 7 H     Control         2 pAFT2        433.\n",
            " 8 H     Control         2 pHSP27       132 \n",
            " 9 H     Control         2 pP38         156.\n",
            "10 H     Control         2 pP90          86 \n",
            "# ℹ 206 more rows\n",
            "# ℹ Use `print(n = ...)` to see more rows\n"
          ]
        }
      ]
    },
    {
      "cell_type": "code",
      "source": [
        "%%R\n",
        "phosphoL%>%ggplot(aes(TREATMENT,log2(Intensity)))+geom_boxplot()+facet_grid(~protein)+theme_bw()"
      ],
      "metadata": {
        "colab": {
          "base_uri": "https://localhost:8080/",
          "height": 497
        },
        "id": "dBMg_9bM3lED",
        "outputId": "5aaaf301-0250-4a51-8d13-cea70d93e6a9"
      },
      "execution_count": null,
      "outputs": [
        {
          "output_type": "display_data",
          "data": {
            "image/png": "[encoded data removed]"
          },
          "metadata": {}
        }
      ]
    },
    {
      "cell_type": "code",
      "source": [
        "%%R\n",
        "pval<-phosphoL %>%\n",
        "  split(.$protein) %>%\n",
        "  map(~ tidy(t.test(Intensity ~ TREATMENT, data = .x)))"
      ],
      "metadata": {
        "id": "k2yutTX-7a2i"
      },
      "execution_count": null,
      "outputs": []
    }
  ]
}