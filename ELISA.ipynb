{
  "nbformat": 4,
  "nbformat_minor": 0,
  "metadata": {
    "colab": {
      "provenance": [],
      "authorship_tag": "ABX9TyM3qOrKDQQDZD2iNW2iTsdt",
      "include_colab_link": true
    },
    "kernelspec": {
      "name": "python3",
      "display_name": "Python 3"
    },
    "language_info": {
      "name": "python"
    }
  },
  "cells": [
    {
      "cell_type": "markdown",
      "metadata": {
        "id": "view-in-github",
        "colab_type": "text"
      },
      "source": [
        "<a href=\"https://colab.research.google.com/github/toryn13/Rexamples/blob/main/ELISA.ipynb\" target=\"_parent\"><img src=\"https://colab.research.google.com/assets/colab-badge.svg\" alt=\"Open In Colab\"/></a>"
      ]
    },
    {
      "cell_type": "code",
      "source": [
        "%load_ext rpy2.ipython"
      ],
      "metadata": {
        "id": "MvwfHdBRmCYN"
      },
      "execution_count": null,
      "outputs": []
    },
    {
      "cell_type": "code",
      "source": [
        "%%R\n",
        "library(tidyverse)\n",
        "library(readxl)"
      ],
      "metadata": {
        "colab": {
          "base_uri": "https://localhost:8080/"
        },
        "id": "UaBD2YElmM3C",
        "outputId": "3a33e7e3-708e-48cd-9d7d-0710d6b8812e"
      },
      "execution_count": null,
      "outputs": [
        {
          "output_type": "stream",
          "name": "stdout",
          "text": [
            "── Attaching core tidyverse packages ──────────────────────── tidyverse 2.0.0 ──\n",
            "✔ dplyr     1.1.4     ✔ readr     2.1.5\n",
            "✔ forcats   1.0.0     ✔ stringr   1.5.1\n",
            "✔ ggplot2   3.4.4     ✔ tibble    3.2.1\n",
            "✔ lubridate 1.9.3     ✔ tidyr     1.3.1\n",
            "✔ purrr     1.0.2     \n",
            "── Conflicts ────────────────────────────────────────── tidyverse_conflicts() ──\n",
            "✖ dplyr::filter() masks stats::filter()\n",
            "✖ dplyr::lag()    masks stats::lag()\n",
            "ℹ Use the conflicted package (<http://conflicted.r-lib.org/>) to force all conflicts to become errors\n"
          ]
        }
      ]
    },
    {
      "cell_type": "code",
      "execution_count": null,
      "metadata": {
        "id": "jnokdEtLkz20"
      },
      "outputs": [],
      "source": [
        "%%R\n",
        "download.file(\"https://raw.githubusercontent.com/toryn13//Rexamples/main/IL6.xlsx\", \"IL6.xlsx\")\n",
        "download.file(\"https://raw.githubusercontent.com/toryn13//Rexamples/main/IL6plate.xls\",\"IL6plate.xls\")"
      ]
    },
    {
      "cell_type": "code",
      "execution_count": null,
      "metadata": {
        "colab": {
          "base_uri": "https://localhost:8080/"
        },
        "id": "-RQ6zYngjucJ",
        "outputId": "e3ff79f4-b778-40fb-f4f2-d3c7d2c7f89b"
      },
      "outputs": [
        {
          "output_type": "stream",
          "name": "stdout",
          "text": [
            "New names:\n",
            "• `` -> `...1`\n"
          ]
        }
      ],
      "source": [
        "%%R\n",
        "elisa_data<-read_excel(\"IL6plate.xls\", skip=1,n_max = 9)"
      ]
    },
    {
      "cell_type": "code",
      "source": [
        "%%R\n",
        "elisa_data"
      ],
      "metadata": {
        "colab": {
          "base_uri": "https://localhost:8080/"
        },
        "id": "_NBM5sWLncG9",
        "outputId": "81a4a1df-76a1-4831-e097-ad52c0c0a511"
      },
      "execution_count": null,
      "outputs": [
        {
          "output_type": "stream",
          "name": "stdout",
          "text": [
            "# A tibble: 8 × 10\n",
            "  ...1    `1`   `2`   `3`   `4`   `5`   `6`   `7`   `8`   `9`\n",
            "  <chr> <dbl> <dbl> <dbl> <dbl> <dbl> <dbl> <dbl> <dbl> <dbl>\n",
            "1 A     0.092 0.093 0.527 3.21  0.442  3.23 3.29  3.20  0.121\n",
            "2 B     0.172 0.165 0.318 3.28  0.299  3.23 3.22  3.23  0.117\n",
            "3 C     0.222 0.228 0.212 3.16  0.203  3.19 3.02  3.15  0.115\n",
            "4 D     0.347 0.35  0.158 2.81  0.145  3.16 2.32  2.93  0.113\n",
            "5 E     0.588 0.593 0.125 1.95  0.122  2.67 1.44  2.07  0.105\n",
            "6 F     0.992 0.987 0.107 1.16  0.106  1.96 0.807 1.26  0.102\n",
            "7 G     1.72  1.69  0.103 0.679 0.104  1.20 0.471 0.73  0.103\n",
            "8 H     2.63  2.58  0.096 0.432 0.104  0.71 0.313 0.443 0.113\n"
          ]
        }
      ]
    },
    {
      "cell_type": "code",
      "source": [
        "%%R\n",
        "il6data<-read_excel(\"IL6plate.xls\", range = \"D2:E10\")\n",
        "\n",
        "colnames(il6data)<-c(\"Control\", \"PHA\")\n",
        "il6data"
      ],
      "metadata": {
        "colab": {
          "base_uri": "https://localhost:8080/"
        },
        "id": "V9YPF7TXsFfJ",
        "outputId": "f0394848-2673-47e5-a732-1e5b4f23bdd7"
      },
      "execution_count": null,
      "outputs": [
        {
          "output_type": "stream",
          "name": "stdout",
          "text": [
            "# A tibble: 8 × 2\n",
            "  Control   PHA\n",
            "    <dbl> <dbl>\n",
            "1   0.527 3.21 \n",
            "2   0.318 3.28 \n",
            "3   0.212 3.16 \n",
            "4   0.158 2.81 \n",
            "5   0.125 1.95 \n",
            "6   0.107 1.16 \n",
            "7   0.103 0.679\n",
            "8   0.096 0.432\n"
          ]
        }
      ]
    },
    {
      "cell_type": "code",
      "execution_count": null,
      "metadata": {
        "colab": {
          "base_uri": "https://localhost:8080/"
        },
        "id": "Z0AYtcMGjuYN",
        "outputId": "0cb7d9ae-c625-4f41-f1a5-058911854d61"
      },
      "outputs": [
        {
          "output_type": "stream",
          "name": "stdout",
          "text": [
            "New names:\n",
            "• `` -> `...1`\n",
            "• `` -> `...4`\n"
          ]
        }
      ],
      "source": [
        "%%R\n",
        "standards<-read_excel(\"IL6plate.xls\", range = \"A14:D22\")\n",
        "colnames(standards)<-c(\"cell\", \"Conc\", \"rep1\", \"rep2\")"
      ]
    },
    {
      "cell_type": "code",
      "execution_count": null,
      "metadata": {
        "id": "uIZacIA8juEn"
      },
      "outputs": [],
      "source": [
        "%%R\n",
        "standardsL<-pivot_longer(standards, starts_with(\"rep\"), names_to = \"replicate\", values_to = \"Abs\")"
      ]
    },
    {
      "cell_type": "code",
      "execution_count": null,
      "metadata": {
        "colab": {
          "base_uri": "https://localhost:8080/"
        },
        "id": "SP-VfW8Hq0NV",
        "outputId": "def3c8ec-f07e-427f-85e8-ee5cf2e56d6e"
      },
      "outputs": [
        {
          "output_type": "stream",
          "name": "stdout",
          "text": [
            "# A tibble: 16 × 4\n",
            "   cell    Conc replicate   Abs\n",
            "   <chr>  <dbl> <chr>     <dbl>\n",
            " 1 A       0    rep1      0.054\n",
            " 2 A       0    rep2      0.052\n",
            " 3 B       7.81 rep1      0.134\n",
            " 4 B       7.81 rep2      0.126\n",
            " 5 C      15.6  rep1      0.183\n",
            " 6 C      15.6  rep2      0.187\n",
            " 7 D      31.2  rep1      0.307\n",
            " 8 D      31.2  rep2      0.31 \n",
            " 9 E      62.5  rep1      0.548\n",
            "10 E      62.5  rep2      0.553\n",
            "11 F     125    rep1      0.953\n",
            "12 F     125    rep2      0.949\n",
            "13 G     250    rep1      1.68 \n",
            "14 G     250    rep2      1.65 \n",
            "15 H     500    rep1      2.59 \n",
            "16 H     500    rep2      2.54 \n"
          ]
        }
      ],
      "source": [
        "%%R\n",
        "standardsL"
      ]
    },
    {
      "cell_type": "code",
      "source": [
        "%%R\n",
        "install.packages(\"cowplot\")"
      ],
      "metadata": {
        "id": "GAU1t42jn93G"
      },
      "execution_count": null,
      "outputs": []
    },
    {
      "cell_type": "code",
      "source": [
        "%%R\n",
        "library(cowplot)"
      ],
      "metadata": {
        "colab": {
          "base_uri": "https://localhost:8080/"
        },
        "id": "3jCWg-O3oL2l",
        "outputId": "afcf6656-3d3c-4749-d383-fee61058c250"
      },
      "execution_count": null,
      "outputs": [
        {
          "output_type": "stream",
          "name": "stderr",
          "text": [
            "WARNING:rpy2.rinterface_lib.callbacks:R[write to console]: \n",
            "Attaching package: ‘cowplot’\n",
            "\n",
            "\n",
            "WARNING:rpy2.rinterface_lib.callbacks:R[write to console]: The following object is masked from ‘package:lubridate’:\n",
            "\n",
            "    stamp\n",
            "\n",
            "\n"
          ]
        }
      ]
    },
    {
      "cell_type": "code",
      "source": [
        "%%R\n",
        "curve<-standardsL%>%ggplot(aes(Conc,Abs))+geom_point()+geom_smooth(method=\"lm\")+theme_cowplot(font_size=20, line_size = 1)+xlab(c(\"IL6 pg/mL\"))\n",
        "curve"
      ],
      "metadata": {
        "colab": {
          "base_uri": "https://localhost:8080/",
          "height": 515
        },
        "id": "CnKGEvHCnWh4",
        "outputId": "13003a0e-2ec1-45c9-d972-42c24e711f60"
      },
      "execution_count": null,
      "outputs": [
        {
          "output_type": "stream",
          "name": "stdout",
          "text": [
            "`geom_smooth()` using formula = 'y ~ x'\n"
          ]
        },
        {
          "output_type": "display_data",
          "data": {
            "image/png": "[encoded data removed]"
          },
          "metadata": {}
        }
      ]
    },
    {
      "cell_type": "code",
      "source": [
        "%%R\n",
        "mean_standards<-standardsL%>%group_by(Conc)%>%summarise(meanAbs=mean(Abs))\n",
        "mean_standards"
      ],
      "metadata": {
        "colab": {
          "base_uri": "https://localhost:8080/"
        },
        "id": "togA-CRqoWVp",
        "outputId": "7aa22495-e601-464a-f2e0-8e5e271e9a98"
      },
      "execution_count": null,
      "outputs": [
        {
          "output_type": "stream",
          "name": "stdout",
          "text": [
            "# A tibble: 8 × 2\n",
            "    Conc meanAbs\n",
            "   <dbl>   <dbl>\n",
            "1   0      0.053\n",
            "2   7.81   0.13 \n",
            "3  15.6    0.185\n",
            "4  31.2    0.308\n",
            "5  62.5    0.550\n",
            "6 125      0.951\n",
            "7 250      1.67 \n",
            "8 500      2.57 \n"
          ]
        }
      ]
    },
    {
      "cell_type": "code",
      "source": [
        "%%R\n",
        "calc<-lm(meanAbs~Conc, data=mean_standards)"
      ],
      "metadata": {
        "id": "FzSsFJE2qHBl"
      },
      "execution_count": null,
      "outputs": []
    },
    {
      "cell_type": "code",
      "source": [
        "%%R\n",
        "summary(calc)"
      ],
      "metadata": {
        "colab": {
          "base_uri": "https://localhost:8080/"
        },
        "id": "OIE3ds2ardbo",
        "outputId": "5fff8fa2-2446-4364-c324-ce2d97465fae"
      },
      "execution_count": null,
      "outputs": [
        {
          "output_type": "stream",
          "name": "stdout",
          "text": [
            "\n",
            "Call:\n",
            "lm(formula = meanAbs ~ Conc, data = mean_standards)\n",
            "\n",
            "Residuals:\n",
            "     Min       1Q   Median       3Q      Max \n",
            "-0.15098 -0.08840 -0.04199  0.08324  0.22286 \n",
            "\n",
            "Coefficients:\n",
            "             Estimate Std. Error t value Pr(>|t|)    \n",
            "(Intercept) 0.1693065  0.0633797   2.671    0.037 *  \n",
            "Conc        0.0050953  0.0003105  16.410 3.26e-06 ***\n",
            "---\n",
            "Signif. codes:  0 ‘***’ 0.001 ‘**’ 0.01 ‘*’ 0.05 ‘.’ 0.1 ‘ ’ 1\n",
            "\n",
            "Residual standard error: 0.1424 on 6 degrees of freedom\n",
            "Multiple R-squared:  0.9782,\tAdjusted R-squared:  0.9746 \n",
            "F-statistic: 269.3 on 1 and 6 DF,  p-value: 3.262e-06\n",
            "\n"
          ]
        }
      ]
    },
    {
      "cell_type": "code",
      "source": [
        "%%R\n",
        "il6data<-il6data%>%mutate(Concon=(Control-0.1693065)/0.0050953, PHAconc=(PHA-0.1693065)/0.0050953)"
      ],
      "metadata": {
        "id": "_dSUQmkIqguA"
      },
      "execution_count": null,
      "outputs": []
    },
    {
      "cell_type": "code",
      "source": [
        "%%R\n",
        "il6data"
      ],
      "metadata": {
        "colab": {
          "base_uri": "https://localhost:8080/"
        },
        "id": "q9MSBPhit7tu",
        "outputId": "e8ed54a3-e1fe-4108-b083-8e8cab7d8e92"
      },
      "execution_count": null,
      "outputs": [
        {
          "output_type": "stream",
          "name": "stdout",
          "text": [
            "# A tibble: 8 × 4\n",
            "  Control   PHA Concon PHAconc\n",
            "    <dbl> <dbl>  <dbl>   <dbl>\n",
            "1   0.527 3.21   70.2    598. \n",
            "2   0.318 3.28   29.2    611. \n",
            "3   0.212 3.16    8.38   586. \n",
            "4   0.158 2.81   -2.22   518. \n",
            "5   0.125 1.95   -8.70   349. \n",
            "6   0.107 1.16  -12.2    194. \n",
            "7   0.103 0.679 -13.0    100. \n",
            "8   0.096 0.432 -14.4     51.6\n"
          ]
        }
      ]
    },
    {
      "cell_type": "code",
      "execution_count": null,
      "metadata": {
        "id": "2teZibh8tsom"
      },
      "outputs": [],
      "source": [
        "%%R\n",
        "IL6<-read_excel(\"IL6.xlsx\")\n",
        "IL6<-IL6%>%mutate(Treat2 = case_when(Treat==\"Control\"~\"1\", Treat==\"PHA\"~\"2\"))\n",
        "IL6$Conc<-(IL6$Conc)/1000\n",
        "\n"
      ]
    },
    {
      "cell_type": "code",
      "source": [
        "%%R\n",
        "IL6$Treat2<-as.numeric(IL6$Treat2)\n",
        "IL6$Treat2<-factor(IL6$Treat2)\n",
        "IL6$Day<-factor(IL6$Day)"
      ],
      "metadata": {
        "id": "NMdiYzz-X9Ap"
      },
      "execution_count": null,
      "outputs": []
    },
    {
      "cell_type": "code",
      "execution_count": null,
      "metadata": {
        "colab": {
          "base_uri": "https://localhost:8080/"
        },
        "id": "xz2As6ny1Dpi",
        "outputId": "1632897e-04de-48bd-bd44-7ecbdbc7107b"
      },
      "outputs": [
        {
          "output_type": "stream",
          "name": "stdout",
          "text": [
            "`summarise()` has grouped output by 'Treat'. You can override using the\n",
            "`.groups` argument.\n",
            "# A tibble: 4 × 4\n",
            "# Groups:   Treat [2]\n",
            "  Treat   Day   meanIL6   sdIL6\n",
            "  <chr>   <fct>   <dbl>   <dbl>\n",
            "1 Control 1      0.110  0.00213\n",
            "2 Control 3      0.0940 0.00618\n",
            "3 PHA     1     19.8    1.28   \n",
            "4 PHA     3     38.6    3.59   \n"
          ]
        }
      ],
      "source": [
        "%%R\n",
        "sumIl6<-IL6%>%group_by(Treat,Day)%>%summarise(meanIL6=mean(Conc), sdIL6=sd(Conc))\n",
        "sumIl6"
      ]
    },
    {
      "cell_type": "code",
      "execution_count": null,
      "metadata": {
        "id": "DJDgumdt1SPB"
      },
      "outputs": [],
      "source": [
        "%%R\n",
        "sumIl6$Day<-factor(sumIl6$Day)"
      ]
    },
    {
      "cell_type": "code",
      "source": [
        "%%R\n",
        "p2<-sumIl6%>%ggplot(aes(Day, meanIL6, fill=Treat))+geom_bar(stat=\"identity\", position = position_dodge(),colour=\"black\")+\n",
        "geom_errorbar(aes(ymin = meanIL6-sdIL6, ymax = meanIL6+sdIL6),position=position_dodge(.9), width=0.6)+\n",
        "scale_y_continuous(limits = c(0, 50), expand = c(0, 0))+\n",
        "scale_fill_manual(values=c('#66b3ff','#cce6ff'))+theme_cowplot(font_size = 20)+\n",
        "ylab(\"mean IL6 ng/mL\")\n",
        "p2"
      ],
      "metadata": {
        "colab": {
          "base_uri": "https://localhost:8080/",
          "height": 497
        },
        "id": "6EyHgJHP6ws2",
        "outputId": "cc0a173f-bbf0-4b83-dbe5-d310a8b3af5c"
      },
      "execution_count": null,
      "outputs": [
        {
          "output_type": "display_data",
          "data": {
            "image/png": "[encoded data removed]"
          },
          "metadata": {}
        }
      ]
    },
    {
      "cell_type": "code",
      "source": [],
      "metadata": {
        "id": "SNOTBFVr0_Te"
      },
      "execution_count": null,
      "outputs": []
    },
    {
      "cell_type": "code",
      "source": [
        "%%R\n",
        "IL6$group<-factor(paste0(IL6$Treat,\"_\",IL6$Day))\n",
        "str(IL6)"
      ],
      "metadata": {
        "colab": {
          "base_uri": "https://localhost:8080/"
        },
        "id": "B9xZaPMO8gZq",
        "outputId": "f0f1d066-ed6d-4804-92df-7fc4fb286cb4"
      },
      "execution_count": null,
      "outputs": [
        {
          "output_type": "stream",
          "name": "stdout",
          "text": [
            "tibble [15 × 5] (S3: tbl_df/tbl/data.frame)\n",
            " $ Treat : chr [1:15] \"Control\" \"Control\" \"Control\" \"PHA\" ...\n",
            " $ Conc  : num [1:15] 0.111 0.111 0.107 18.534 19.611 ...\n",
            " $ Day   : num [1:15] 1 1 1 1 1 1 1 1 3 3 ...\n",
            " $ Treat2: chr [1:15] \"1\" \"1\" \"1\" \"2\" ...\n",
            " $ group : Factor w/ 4 levels \"Control_1\",\"Control_3\",..: 1 1 1 3 3 3 3 3 2 2 ...\n"
          ]
        }
      ]
    },
    {
      "cell_type": "code",
      "source": [
        "%%R\n",
        "t.test(Conc~Treat, data=IL6)"
      ],
      "metadata": {
        "colab": {
          "base_uri": "https://localhost:8080/"
        },
        "id": "9VB_l-my8n4A",
        "outputId": "6ad91d54-25fb-4d99-babe-486cd8325361"
      },
      "execution_count": null,
      "outputs": [
        {
          "output_type": "stream",
          "name": "stdout",
          "text": [
            "\n",
            "\tWelch Two Sample t-test\n",
            "\n",
            "data:  Conc by Treat\n",
            "t = -8.2371, df = 8, p-value = 3.537e-05\n",
            "alternative hypothesis: true difference in means between group Control and group PHA is not equal to 0\n",
            "95 percent confidence interval:\n",
            " -35.86970 -20.17873\n",
            "sample estimates:\n",
            "mean in group Control     mean in group PHA \n",
            "            0.1018694            28.1260859 \n",
            "\n"
          ]
        }
      ]
    },
    {
      "cell_type": "code",
      "source": [
        "%%R\n",
        "pha<-IL6%>%filter(group %in% c(\"PHA_1\", \"PHA_3\"))"
      ],
      "metadata": {
        "id": "TGmPZy3y9HaD"
      },
      "execution_count": null,
      "outputs": []
    },
    {
      "cell_type": "code",
      "source": [
        "%%R\n",
        "pha"
      ],
      "metadata": {
        "colab": {
          "base_uri": "https://localhost:8080/"
        },
        "id": "q2fV5PptgGDo",
        "outputId": "79cc11f5-de1f-492c-b906-25def5f05c7b"
      },
      "execution_count": null,
      "outputs": [
        {
          "output_type": "stream",
          "name": "stdout",
          "text": [
            "# A tibble: 9 × 5\n",
            "  Treat  Conc   Day Treat2 group\n",
            "  <chr> <dbl> <dbl> <chr>  <fct>\n",
            "1 PHA    18.5     1 2      PHA_1\n",
            "2 PHA    19.6     1 2      PHA_1\n",
            "3 PHA    19.2     1 2      PHA_1\n",
            "4 PHA    19.6     1 2      PHA_1\n",
            "5 PHA    21.9     1 2      PHA_1\n",
            "6 PHA    33.3     3 2      PHA_3\n",
            "7 PHA    39.7     3 2      PHA_3\n",
            "8 PHA    39.9     3 2      PHA_3\n",
            "9 PHA    41.4     3 2      PHA_3\n"
          ]
        }
      ]
    },
    {
      "cell_type": "code",
      "source": [
        "%%R\n",
        "pha\n",
        "t.test(Conc~group,data=pha)"
      ],
      "metadata": {
        "colab": {
          "base_uri": "https://localhost:8080/"
        },
        "id": "Y06BvkQJ-Kwk",
        "outputId": "b049070c-b659-4ac4-f9ab-75264a8c0ca7"
      },
      "execution_count": null,
      "outputs": [
        {
          "output_type": "stream",
          "name": "stdout",
          "text": [
            "\n",
            "\tWelch Two Sample t-test\n",
            "\n",
            "data:  Conc by group\n",
            "t = -9.988, df = 3.6147, p-value = 0.0009248\n",
            "alternative hypothesis: true difference in means between group PHA_1 and group PHA_3 is not equal to 0\n",
            "95 percent confidence interval:\n",
            " -24.29456 -13.36959\n",
            "sample estimates:\n",
            "mean in group PHA_1 mean in group PHA_3 \n",
            "           19.75627            38.58835 \n",
            "\n"
          ]
        }
      ]
    },
    {
      "cell_type": "code",
      "source": [
        "%%R\n",
        "install.packages(\"rstatix\")"
      ],
      "metadata": {
        "id": "GRNpaYIV2HgB"
      },
      "execution_count": null,
      "outputs": []
    },
    {
      "cell_type": "code",
      "source": [
        "%%R\n",
        "library(rstatix)"
      ],
      "metadata": {
        "colab": {
          "base_uri": "https://localhost:8080/"
        },
        "id": "Z88Gvtew3tMb",
        "outputId": "c156dc7a-1dcf-479d-8e9e-5a59d600b5e6"
      },
      "execution_count": null,
      "outputs": [
        {
          "output_type": "stream",
          "name": "stderr",
          "text": [
            "WARNING:rpy2.rinterface_lib.callbacks:R[write to console]: \n",
            "Attaching package: ‘rstatix’\n",
            "\n",
            "\n",
            "WARNING:rpy2.rinterface_lib.callbacks:R[write to console]: The following object is masked from ‘package:stats’:\n",
            "\n",
            "    filter\n",
            "\n",
            "\n"
          ]
        }
      ]
    },
    {
      "cell_type": "code",
      "source": [
        "%%R\n",
        "IL6 %>%\n",
        "t_test(data =., Conc ~ group) %>%\n",
        "adjust_pvalue(method = \"bonferroni\") %>%\n",
        "add_significance(\"p.adj\")"
      ],
      "metadata": {
        "colab": {
          "base_uri": "https://localhost:8080/"
        },
        "id": "yzvg8S7Z-ulr",
        "outputId": "ae799cb9-69f4-4692-c90f-342f7e5923a1"
      },
      "execution_count": null,
      "outputs": [
        {
          "output_type": "stream",
          "name": "stdout",
          "text": [
            "# A tibble: 6 × 10\n",
            "  .y.   group1   group2    n1    n2 statistic    df       p   p.adj p.adj.signif\n",
            "  <chr> <chr>    <chr>  <int> <int>     <dbl> <dbl>   <dbl>   <dbl> <chr>       \n",
            "1 Conc  Control… Contr…     3     3      4.15  2.47 3.7 e-2 2.22e-1 ns          \n",
            "2 Conc  Control… PHA_1      3     5    -34.3   4.00 4.33e-6 2.60e-5 ****        \n",
            "3 Conc  Control… PHA_3      3     4    -21.4   3.00 2.23e-4 1.34e-3 **          \n",
            "4 Conc  Control… PHA_1      3     5    -34.3   4.00 4.32e-6 2.59e-5 ****        \n",
            "5 Conc  Control… PHA_3      3     4    -21.4   3.00 2.22e-4 1.33e-3 **          \n",
            "6 Conc  PHA_1    PHA_3      5     4     -9.99  3.61 9.25e-4 5.55e-3 **          \n"
          ]
        }
      ]
    },
    {
      "cell_type": "markdown",
      "source": [
        "##One-way ANOVA and Two-way ANOVA"
      ],
      "metadata": {
        "id": "_-oEvCKvVZwZ"
      }
    },
    {
      "cell_type": "code",
      "source": [
        "%%R\n",
        "IL6.aov <- aov(Conc ~ group, data = IL6)\n",
        "# Summary of the analysis\n",
        "summary(IL6.aov)%>%tidy()"
      ],
      "metadata": {
        "colab": {
          "base_uri": "https://localhost:8080/"
        },
        "id": "13k3RVbFUB4q",
        "outputId": "55a5034e-7d52-42a1-e183-2b3624c1cd8f"
      },
      "execution_count": null,
      "outputs": [
        {
          "output_type": "stream",
          "name": "stdout",
          "text": [
            "            Df Sum Sq Mean Sq F value   Pr(>F)    \n",
            "group        3   3615  1205.1   292.7 9.05e-11 ***\n",
            "Residuals   11     45     4.1                     \n",
            "---\n",
            "Signif. codes:  0 ‘***’ 0.001 ‘**’ 0.01 ‘*’ 0.05 ‘.’ 0.1 ‘ ’ 1\n"
          ]
        }
      ]
    },
    {
      "cell_type": "code",
      "source": [
        "%%R\n",
        "IL6.aov2 <- aov(Conc ~ Day + Treat, data = IL6)\n",
        "summary(IL6.aov2)"
      ],
      "metadata": {
        "colab": {
          "base_uri": "https://localhost:8080/"
        },
        "id": "rXX6ruhlU-2z",
        "outputId": "2698dd59-b151-4892-8edf-f304032da1b7"
      },
      "execution_count": null,
      "outputs": [
        {
          "output_type": "stream",
          "name": "stdout",
          "text": [
            "            Df Sum Sq Mean Sq F value   Pr(>F)    \n",
            "Day          1  351.4   351.4   11.60  0.00521 ** \n",
            "Treat        1 2945.9  2945.9   97.27 4.16e-07 ***\n",
            "Residuals   12  363.4    30.3                     \n",
            "---\n",
            "Signif. codes:  0 ‘***’ 0.001 ‘**’ 0.01 ‘*’ 0.05 ‘.’ 0.1 ‘ ’ 1\n"
          ]
        }
      ]
    },
    {
      "cell_type": "code",
      "source": [
        "%%R\n",
        "IL6.aov2 <- aov(Conc ~ Day * Treat, data = IL6)\n",
        "summary(IL6.aov2)"
      ],
      "metadata": {
        "id": "SJ_5iRvpVQMs",
        "outputId": "d9fe7e0c-17ff-4f26-cb24-b964b70c4f8e",
        "colab": {
          "base_uri": "https://localhost:8080/"
        }
      },
      "execution_count": null,
      "outputs": [
        {
          "output_type": "stream",
          "name": "stdout",
          "text": [
            "            Df Sum Sq Mean Sq F value   Pr(>F)    \n",
            "Day          1  351.4   351.4   85.35 1.62e-06 ***\n",
            "Treat        1 2945.9  2945.9  715.46 2.32e-11 ***\n",
            "Day:Treat    1  318.1   318.1   77.26 2.64e-06 ***\n",
            "Residuals   11   45.3     4.1                     \n",
            "---\n",
            "Signif. codes:  0 ‘***’ 0.001 ‘**’ 0.01 ‘*’ 0.05 ‘.’ 0.1 ‘ ’ 1\n"
          ]
        }
      ]
    },
    {
      "cell_type": "code",
      "source": [
        "%%R\n",
        "aLM <- lm(Conc ~ group, data = IL6)\n",
        "summary(aLM)"
      ],
      "metadata": {
        "colab": {
          "base_uri": "https://localhost:8080/"
        },
        "id": "feXSyAGFV3x2",
        "outputId": "1f896b64-b764-4bde-ab76-e762fe9af113"
      },
      "execution_count": null,
      "outputs": [
        {
          "output_type": "stream",
          "name": "stdout",
          "text": [
            "\n",
            "Call:\n",
            "lm(formula = Conc ~ group, data = IL6)\n",
            "\n",
            "Residuals:\n",
            "    Min      1Q  Median      3Q     Max \n",
            "-5.2580 -0.1682  0.0002  0.5517  2.8573 \n",
            "\n",
            "Coefficients:\n",
            "               Estimate Std. Error t value Pr(>|t|)    \n",
            "(Intercept)     0.10971    1.17153   0.094    0.927    \n",
            "groupControl_3 -0.01568    1.65679  -0.009    0.993    \n",
            "groupPHA_1     19.64656    1.48188  13.258 4.15e-08 ***\n",
            "groupPHA_3     38.47864    1.54979  24.828 5.20e-11 ***\n",
            "---\n",
            "Signif. codes:  0 ‘***’ 0.001 ‘**’ 0.01 ‘*’ 0.05 ‘.’ 0.1 ‘ ’ 1\n",
            "\n",
            "Residual standard error: 2.029 on 11 degrees of freedom\n",
            "Multiple R-squared:  0.9876,\tAdjusted R-squared:  0.9843 \n",
            "F-statistic: 292.7 on 3 and 11 DF,  p-value: 9.053e-11\n",
            "\n"
          ]
        }
      ]
    },
    {
      "cell_type": "code",
      "source": [
        "%%R\n",
        "a2LM <- lm(Conc ~ Day +Treat, data = IL6)\n",
        "summary(a2LM)"
      ],
      "metadata": {
        "colab": {
          "base_uri": "https://localhost:8080/"
        },
        "id": "58ZVmnOKWGGJ",
        "outputId": "acda5400-3691-447c-de77-6bd2ff00ea72"
      },
      "execution_count": null,
      "outputs": [
        {
          "output_type": "stream",
          "name": "stdout",
          "text": [
            "\n",
            "Call:\n",
            "lm(formula = Conc ~ Day + Treat, data = IL6)\n",
            "\n",
            "Residuals:\n",
            "   Min     1Q Median     3Q    Max \n",
            "-5.633 -4.287 -1.216  5.573  7.077 \n",
            "\n",
            "Coefficients:\n",
            "            Estimate Std. Error t value Pr(>|t|)    \n",
            "(Intercept)   -5.516      2.661  -2.073  0.06037 .  \n",
            "Day3          11.237      2.852   3.939  0.00197 ** \n",
            "TreatPHA      28.648      2.905   9.863 4.16e-07 ***\n",
            "---\n",
            "Signif. codes:  0 ‘***’ 0.001 ‘**’ 0.01 ‘*’ 0.05 ‘.’ 0.1 ‘ ’ 1\n",
            "\n",
            "Residual standard error: 5.503 on 12 degrees of freedom\n",
            "Multiple R-squared:  0.9007,\tAdjusted R-squared:  0.8842 \n",
            "F-statistic: 54.44 on 2 and 12 DF,  p-value: 9.573e-07\n",
            "\n"
          ]
        }
      ]
    },
    {
      "cell_type": "markdown",
      "source": [
        "#Plotting with GGPLOT2"
      ],
      "metadata": {
        "id": "oXr2vabP2oKh"
      }
    },
    {
      "cell_type": "code",
      "execution_count": null,
      "metadata": {
        "colab": {
          "base_uri": "https://localhost:8080/",
          "height": 497
        },
        "id": "dstzP9781VV3",
        "outputId": "5b4bd56f-6a0b-4779-9684-f5d7b8ee3c13"
      },
      "outputs": [
        {
          "output_type": "display_data",
          "data": {
            "image/png": "[encoded data removed]"
          },
          "metadata": {}
        }
      ],
      "source": [
        "%%R\n",
        "#sumIl6%>%ggplot(aes(Day, meanIL6, fill=Treat))+geom_bar()\n",
        "sumIl6%>%ggplot(aes(Day, meanIL6, fill=Treat))+geom_bar(stat=\"identity\")\n",
        "sumIl6%>%ggplot(aes(Day, meanIL6, fill=Treat))+geom_bar(stat=\"identity\",position = position_dodge())\n"
      ]
    },
    {
      "cell_type": "markdown",
      "source": [
        "Error bars"
      ],
      "metadata": {
        "id": "Km2P1pNUYIuN"
      }
    },
    {
      "cell_type": "code",
      "source": [
        "%%R\n",
        "sumIl6%>%ggplot(aes(Day, meanIL6, fill=Treat))+geom_bar(stat=\"identity\", position = position_dodge())+\n",
        "geom_errorbar(aes(ymin = meanIL6-sdIL6, ymax = meanIL6+sdIL6), width=.1)+\n",
        "scale_y_continuous(limits = c(0, 50), expand = c(0, 0))"
      ],
      "metadata": {
        "colab": {
          "base_uri": "https://localhost:8080/",
          "height": 497
        },
        "id": "DKQ-Vpws54Bf",
        "outputId": "5c12015f-c338-4f3c-e6c0-8fb0ecd6cdb3"
      },
      "execution_count": null,
      "outputs": [
        {
          "output_type": "display_data",
          "data": {
            "image/png": "[encoded data removed]"
          },
          "metadata": {}
        }
      ]
    },
    {
      "cell_type": "code",
      "source": [
        "%%R\n",
        "sumIl6%>%ggplot(aes(Day, meanIL6, fill=Treat))+geom_bar(stat=\"identity\", position = position_dodge())+\n",
        "geom_errorbar(aes(ymin = meanIL6-sdIL6, ymax = meanIL6+sdIL6),position=position_dodge(.9), width=0.8)+\n",
        "scale_y_continuous(limits = c(0, 50), expand = c(0, 0))"
      ],
      "metadata": {
        "colab": {
          "base_uri": "https://localhost:8080/",
          "height": 497
        },
        "id": "-M2WqsMA6bkw",
        "outputId": "cedbcf3a-070f-49fd-c032-a40201a20441"
      },
      "execution_count": null,
      "outputs": [
        {
          "output_type": "display_data",
          "data": {
            "image/png": "[encoded data removed]"
          },
          "metadata": {}
        }
      ]
    },
    {
      "cell_type": "code",
      "source": [
        "%%R\n",
        "p2<-sumIl6%>%ggplot(aes(Day, meanIL6, fill=Treat))+geom_bar(stat=\"identity\", position = position_dodge(),colour=\"black\")+\n",
        "geom_errorbar(aes(ymin = meanIL6-sdIL6, ymax = meanIL6+sdIL6),position=position_dodge(.9), width=0.6)+\n",
        "scale_y_continuous(limits = c(0, 50), expand = c(0, 0))+\n",
        "scale_fill_manual(values=c('#66b3ff','#cce6ff'))+theme_bw()\n",
        "ylab(\"mean IL6 ng/mL\")\n",
        "p2"
      ],
      "metadata": {
        "colab": {
          "base_uri": "https://localhost:8080/",
          "height": 497
        },
        "outputId": "5b6bedeb-258a-4350-c071-570ee1910cee",
        "id": "ldCFE7ZC2g9y"
      },
      "execution_count": null,
      "outputs": [
        {
          "output_type": "display_data",
          "data": {
            "image/png": "[encoded data removed]"
          },
          "metadata": {}
        }
      ]
    }
  ]
}